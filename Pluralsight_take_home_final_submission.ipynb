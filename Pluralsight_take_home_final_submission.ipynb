{
 "cells": [
  {
   "cell_type": "markdown",
   "id": "f36b00bb",
   "metadata": {},
   "source": [
    "### 1. Importing Libraries"
   ]
  },
  {
   "cell_type": "code",
   "execution_count": 941,
   "id": "5c7ee119",
   "metadata": {},
   "outputs": [],
   "source": [
    "import pandas as pd\n",
    "import numpy as np\n",
    "from sklearn.metrics import accuracy_score,f1_score,precision_score,recall_score,confusion_matrix\n",
    "from sklearn.model_selection import train_test_split\n",
    "from sklearn.linear_model import LogisticRegression\n",
    "from sklearn.ensemble import RandomForestClassifier\n",
    "from sklearn.neighbors import KNeighborsClassifier\n",
    "from sklearn import tree\n",
    "from sklearn.feature_selection import RFE "
   ]
  },
  {
   "cell_type": "markdown",
   "id": "592f1ac4",
   "metadata": {},
   "source": [
    "### 2. Importing the dataset and doing data exploration"
   ]
  },
  {
   "cell_type": "code",
   "execution_count": 851,
   "id": "cdd42936",
   "metadata": {},
   "outputs": [],
   "source": [
    "df = pd.read_csv(\"C:\\\\Users\\saumi\\Desktop\\Take_home_test\\Train_set_zeta_disease.csv\")"
   ]
  },
  {
   "cell_type": "code",
   "execution_count": 852,
   "id": "b0bdebea",
   "metadata": {},
   "outputs": [
    {
     "data": {
      "text/html": [
       "<div>\n",
       "<style scoped>\n",
       "    .dataframe tbody tr th:only-of-type {\n",
       "        vertical-align: middle;\n",
       "    }\n",
       "\n",
       "    .dataframe tbody tr th {\n",
       "        vertical-align: top;\n",
       "    }\n",
       "\n",
       "    .dataframe thead th {\n",
       "        text-align: right;\n",
       "    }\n",
       "</style>\n",
       "<table border=\"1\" class=\"dataframe\">\n",
       "  <thead>\n",
       "    <tr style=\"text-align: right;\">\n",
       "      <th></th>\n",
       "      <th>age</th>\n",
       "      <th>weight</th>\n",
       "      <th>bmi</th>\n",
       "      <th>blood_pressure</th>\n",
       "      <th>insulin_test</th>\n",
       "      <th>liver_stress_test</th>\n",
       "      <th>cardio_stress_test</th>\n",
       "      <th>years_smoking</th>\n",
       "      <th>zeta_disease</th>\n",
       "    </tr>\n",
       "  </thead>\n",
       "  <tbody>\n",
       "    <tr>\n",
       "      <th>0</th>\n",
       "      <td>54</td>\n",
       "      <td>189</td>\n",
       "      <td>27.1</td>\n",
       "      <td>80</td>\n",
       "      <td>0</td>\n",
       "      <td>1.5038</td>\n",
       "      <td>0</td>\n",
       "      <td>10</td>\n",
       "      <td>0</td>\n",
       "    </tr>\n",
       "    <tr>\n",
       "      <th>1</th>\n",
       "      <td>23</td>\n",
       "      <td>150</td>\n",
       "      <td>38.5</td>\n",
       "      <td>68</td>\n",
       "      <td>71</td>\n",
       "      <td>0.3868</td>\n",
       "      <td>55</td>\n",
       "      <td>2</td>\n",
       "      <td>0</td>\n",
       "    </tr>\n",
       "    <tr>\n",
       "      <th>2</th>\n",
       "      <td>47</td>\n",
       "      <td>186</td>\n",
       "      <td>29.9</td>\n",
       "      <td>90</td>\n",
       "      <td>0</td>\n",
       "      <td>0.2728</td>\n",
       "      <td>0</td>\n",
       "      <td>7</td>\n",
       "      <td>0</td>\n",
       "    </tr>\n",
       "    <tr>\n",
       "      <th>3</th>\n",
       "      <td>18</td>\n",
       "      <td>150</td>\n",
       "      <td>30.8</td>\n",
       "      <td>70</td>\n",
       "      <td>1033</td>\n",
       "      <td>0.6598</td>\n",
       "      <td>56</td>\n",
       "      <td>0</td>\n",
       "      <td>0</td>\n",
       "    </tr>\n",
       "    <tr>\n",
       "      <th>4</th>\n",
       "      <td>24</td>\n",
       "      <td>160</td>\n",
       "      <td>32.4</td>\n",
       "      <td>74</td>\n",
       "      <td>125</td>\n",
       "      <td>0.7608</td>\n",
       "      <td>59</td>\n",
       "      <td>2</td>\n",
       "      <td>0</td>\n",
       "    </tr>\n",
       "  </tbody>\n",
       "</table>\n",
       "</div>"
      ],
      "text/plain": [
       "   age  weight   bmi  blood_pressure  insulin_test  liver_stress_test  \\\n",
       "0   54     189  27.1              80             0             1.5038   \n",
       "1   23     150  38.5              68            71             0.3868   \n",
       "2   47     186  29.9              90             0             0.2728   \n",
       "3   18     150  30.8              70          1033             0.6598   \n",
       "4   24     160  32.4              74           125             0.7608   \n",
       "\n",
       "   cardio_stress_test  years_smoking  zeta_disease  \n",
       "0                   0             10             0  \n",
       "1                  55              2             0  \n",
       "2                   0              7             0  \n",
       "3                  56              0             0  \n",
       "4                  59              2             0  "
      ]
     },
     "execution_count": 852,
     "metadata": {},
     "output_type": "execute_result"
    }
   ],
   "source": [
    "df.head(5)"
   ]
  },
  {
   "cell_type": "code",
   "execution_count": 853,
   "id": "3caf7fa5",
   "metadata": {},
   "outputs": [],
   "source": [
    "df_copy= df.copy() #duplicating dataframe so can perform some analysis without causing changes to the original dataset"
   ]
  },
  {
   "cell_type": "markdown",
   "id": "12878660",
   "metadata": {},
   "source": [
    "* Replacing 0 with NaN for a better visualization (Not a necessary step just used it to count the total NaN values in different columns)"
   ]
  },
  {
   "cell_type": "code",
   "execution_count": 854,
   "id": "35fb05a7",
   "metadata": {},
   "outputs": [],
   "source": [
    "df_copy[\"age\"]=df_copy[[\"age\"]].replace(0, np.nan )\n",
    "df_copy[\"weight\"]=df_copy[[\"weight\"]].replace(0, np.nan )\n",
    "df_copy[\"bmi\"]=df_copy[[\"bmi\"]].replace(0, np.nan )\n",
    "df_copy[\"blood_pressure\"]=df_copy[[\"blood_pressure\"]].replace(0, np.nan )\n",
    "df_copy[\"insulin_test\"]=df_copy[[\"insulin_test\"]].replace(0, np.nan )\n",
    "df_copy[\"liver_stress_test\"]=df_copy[[\"liver_stress_test\"]].replace(0, np.nan )\n",
    "df_copy[\"cardio_stress_test\"]=df_copy[[\"cardio_stress_test\"]].replace(0, np.nan )"
   ]
  },
  {
   "cell_type": "code",
   "execution_count": 855,
   "id": "386781f5",
   "metadata": {
    "scrolled": true
   },
   "outputs": [
    {
     "data": {
      "text/html": [
       "<div>\n",
       "<style scoped>\n",
       "    .dataframe tbody tr th:only-of-type {\n",
       "        vertical-align: middle;\n",
       "    }\n",
       "\n",
       "    .dataframe tbody tr th {\n",
       "        vertical-align: top;\n",
       "    }\n",
       "\n",
       "    .dataframe thead th {\n",
       "        text-align: right;\n",
       "    }\n",
       "</style>\n",
       "<table border=\"1\" class=\"dataframe\">\n",
       "  <thead>\n",
       "    <tr style=\"text-align: right;\">\n",
       "      <th></th>\n",
       "      <th>age</th>\n",
       "      <th>weight</th>\n",
       "      <th>bmi</th>\n",
       "      <th>blood_pressure</th>\n",
       "      <th>insulin_test</th>\n",
       "      <th>liver_stress_test</th>\n",
       "      <th>cardio_stress_test</th>\n",
       "      <th>years_smoking</th>\n",
       "      <th>zeta_disease</th>\n",
       "    </tr>\n",
       "  </thead>\n",
       "  <tbody>\n",
       "    <tr>\n",
       "      <th>0</th>\n",
       "      <td>54</td>\n",
       "      <td>189</td>\n",
       "      <td>27.1</td>\n",
       "      <td>80.0</td>\n",
       "      <td>NaN</td>\n",
       "      <td>1.5038</td>\n",
       "      <td>NaN</td>\n",
       "      <td>10</td>\n",
       "      <td>0</td>\n",
       "    </tr>\n",
       "    <tr>\n",
       "      <th>1</th>\n",
       "      <td>23</td>\n",
       "      <td>150</td>\n",
       "      <td>38.5</td>\n",
       "      <td>68.0</td>\n",
       "      <td>71.0</td>\n",
       "      <td>0.3868</td>\n",
       "      <td>55.0</td>\n",
       "      <td>2</td>\n",
       "      <td>0</td>\n",
       "    </tr>\n",
       "    <tr>\n",
       "      <th>2</th>\n",
       "      <td>47</td>\n",
       "      <td>186</td>\n",
       "      <td>29.9</td>\n",
       "      <td>90.0</td>\n",
       "      <td>NaN</td>\n",
       "      <td>0.2728</td>\n",
       "      <td>NaN</td>\n",
       "      <td>7</td>\n",
       "      <td>0</td>\n",
       "    </tr>\n",
       "    <tr>\n",
       "      <th>3</th>\n",
       "      <td>18</td>\n",
       "      <td>150</td>\n",
       "      <td>30.8</td>\n",
       "      <td>70.0</td>\n",
       "      <td>1033.0</td>\n",
       "      <td>0.6598</td>\n",
       "      <td>56.0</td>\n",
       "      <td>0</td>\n",
       "      <td>0</td>\n",
       "    </tr>\n",
       "    <tr>\n",
       "      <th>4</th>\n",
       "      <td>24</td>\n",
       "      <td>160</td>\n",
       "      <td>32.4</td>\n",
       "      <td>74.0</td>\n",
       "      <td>125.0</td>\n",
       "      <td>0.7608</td>\n",
       "      <td>59.0</td>\n",
       "      <td>2</td>\n",
       "      <td>0</td>\n",
       "    </tr>\n",
       "    <tr>\n",
       "      <th>...</th>\n",
       "      <td>...</td>\n",
       "      <td>...</td>\n",
       "      <td>...</td>\n",
       "      <td>...</td>\n",
       "      <td>...</td>\n",
       "      <td>...</td>\n",
       "      <td>...</td>\n",
       "      <td>...</td>\n",
       "      <td>...</td>\n",
       "    </tr>\n",
       "    <tr>\n",
       "      <th>795</th>\n",
       "      <td>26</td>\n",
       "      <td>161</td>\n",
       "      <td>28.4</td>\n",
       "      <td>90.0</td>\n",
       "      <td>78.0</td>\n",
       "      <td>0.5578</td>\n",
       "      <td>42.0</td>\n",
       "      <td>3</td>\n",
       "      <td>0</td>\n",
       "    </tr>\n",
       "    <tr>\n",
       "      <th>796</th>\n",
       "      <td>37</td>\n",
       "      <td>165</td>\n",
       "      <td>33.7</td>\n",
       "      <td>60.0</td>\n",
       "      <td>NaN</td>\n",
       "      <td>0.3078</td>\n",
       "      <td>69.0</td>\n",
       "      <td>6</td>\n",
       "      <td>1</td>\n",
       "    </tr>\n",
       "    <tr>\n",
       "      <th>797</th>\n",
       "      <td>27</td>\n",
       "      <td>166</td>\n",
       "      <td>25.6</td>\n",
       "      <td>74.0</td>\n",
       "      <td>NaN</td>\n",
       "      <td>0.2638</td>\n",
       "      <td>NaN</td>\n",
       "      <td>5</td>\n",
       "      <td>0</td>\n",
       "    </tr>\n",
       "    <tr>\n",
       "      <th>798</th>\n",
       "      <td>109</td>\n",
       "      <td>139</td>\n",
       "      <td>28.1</td>\n",
       "      <td>66.0</td>\n",
       "      <td>94.0</td>\n",
       "      <td>0.2298</td>\n",
       "      <td>53.0</td>\n",
       "      <td>1</td>\n",
       "      <td>0</td>\n",
       "    </tr>\n",
       "    <tr>\n",
       "      <th>799</th>\n",
       "      <td>26</td>\n",
       "      <td>196</td>\n",
       "      <td>29.7</td>\n",
       "      <td>56.0</td>\n",
       "      <td>NaN</td>\n",
       "      <td>0.6268</td>\n",
       "      <td>NaN</td>\n",
       "      <td>1</td>\n",
       "      <td>0</td>\n",
       "    </tr>\n",
       "  </tbody>\n",
       "</table>\n",
       "<p>800 rows × 9 columns</p>\n",
       "</div>"
      ],
      "text/plain": [
       "     age  weight   bmi  blood_pressure  insulin_test  liver_stress_test  \\\n",
       "0     54     189  27.1            80.0           NaN             1.5038   \n",
       "1     23     150  38.5            68.0          71.0             0.3868   \n",
       "2     47     186  29.9            90.0           NaN             0.2728   \n",
       "3     18     150  30.8            70.0        1033.0             0.6598   \n",
       "4     24     160  32.4            74.0         125.0             0.7608   \n",
       "..   ...     ...   ...             ...           ...                ...   \n",
       "795   26     161  28.4            90.0          78.0             0.5578   \n",
       "796   37     165  33.7            60.0           NaN             0.3078   \n",
       "797   27     166  25.6            74.0           NaN             0.2638   \n",
       "798  109     139  28.1            66.0          94.0             0.2298   \n",
       "799   26     196  29.7            56.0           NaN             0.6268   \n",
       "\n",
       "     cardio_stress_test  years_smoking  zeta_disease  \n",
       "0                   NaN             10             0  \n",
       "1                  55.0              2             0  \n",
       "2                   NaN              7             0  \n",
       "3                  56.0              0             0  \n",
       "4                  59.0              2             0  \n",
       "..                  ...            ...           ...  \n",
       "795                42.0              3             0  \n",
       "796                69.0              6             1  \n",
       "797                 NaN              5             0  \n",
       "798                53.0              1             0  \n",
       "799                 NaN              1             0  \n",
       "\n",
       "[800 rows x 9 columns]"
      ]
     },
     "execution_count": 855,
     "metadata": {},
     "output_type": "execute_result"
    }
   ],
   "source": [
    "df_copy"
   ]
  },
  {
   "cell_type": "code",
   "execution_count": 856,
   "id": "e9368e5f",
   "metadata": {},
   "outputs": [
    {
     "data": {
      "text/plain": [
       "age                     0\n",
       "weight                  0\n",
       "bmi                    11\n",
       "blood_pressure         35\n",
       "insulin_test          370\n",
       "liver_stress_test       0\n",
       "cardio_stress_test    227\n",
       "years_smoking           0\n",
       "zeta_disease            0\n",
       "dtype: int64"
      ]
     },
     "execution_count": 856,
     "metadata": {},
     "output_type": "execute_result"
    }
   ],
   "source": [
    "df_copy.isnull().sum()"
   ]
  },
  {
   "cell_type": "code",
   "execution_count": 857,
   "id": "362fb50d",
   "metadata": {},
   "outputs": [
    {
     "data": {
      "text/plain": [
       "<AxesSubplot:title={'center':'Count'}>"
      ]
     },
     "execution_count": 857,
     "metadata": {},
     "output_type": "execute_result"
    },
    {
     "data": {
      "image/png": "[encoded data removed]",
      "text/plain": [
       "<Figure size 432x288 with 1 Axes>"
      ]
     },
     "metadata": {
      "needs_background": "light"
     },
     "output_type": "display_data"
    }
   ],
   "source": [
    "df_copy['zeta_disease'].value_counts().plot(kind='bar',title='Count')\n",
    "#sns.barplot(x=\"index\",y=\"\",data=xx)"
   ]
  },
  {
   "cell_type": "markdown",
   "id": "bfdedd18",
   "metadata": {},
   "source": [
    "* Here we can see that the dataset is imbalanced so we need to consider F1 score, Recall instead of accuracy."
   ]
  },
  {
   "cell_type": "markdown",
   "id": "73512045",
   "metadata": {},
   "source": [
    "## Trying 3 different methods.\n",
    "#### 1. Deleting the null rows in insulin_test and cardio_stress_test and make predictions\n",
    "#### 2. Removing columns having 30-35% null values. ( First checking it with feature selection if the feature are important or not)\n",
    "#### 3. Replacing all NaN values to make predictions\n"
   ]
  },
  {
   "cell_type": "markdown",
   "id": "0ac47f7d",
   "metadata": {},
   "source": [
    "\n",
    "### Method 1 - Deleting the null rows in insulin_test and cardio_stress_test and make predictions\n"
   ]
  },
  {
   "cell_type": "code",
   "execution_count": 858,
   "id": "8f1c9912",
   "metadata": {},
   "outputs": [],
   "source": [
    "import seaborn as sns\n",
    "import matplotlib.pyplot as plt"
   ]
  },
  {
   "cell_type": "code",
   "execution_count": 859,
   "id": "d478dc80",
   "metadata": {},
   "outputs": [
    {
     "name": "stderr",
     "output_type": "stream",
     "text": [
      "C:\\Users\\saumi\\anaconda3\\lib\\site-packages\\seaborn\\_decorators.py:36: FutureWarning: Pass the following variable as a keyword arg: x. From version 0.12, the only valid positional argument will be `data`, and passing other arguments without an explicit keyword will result in an error or misinterpretation.\n",
      "  warnings.warn(\n",
      "C:\\Users\\saumi\\anaconda3\\lib\\site-packages\\seaborn\\_decorators.py:36: FutureWarning: Pass the following variable as a keyword arg: x. From version 0.12, the only valid positional argument will be `data`, and passing other arguments without an explicit keyword will result in an error or misinterpretation.\n",
      "  warnings.warn(\n"
     ]
    },
    {
     "data": {
      "text/plain": [
       "<AxesSubplot:xlabel='blood_pressure'>"
      ]
     },
     "execution_count": 859,
     "metadata": {},
     "output_type": "execute_result"
    },
    {
     "data": {
      "image/png": "[encoded data removed]",
      "text/plain": [
       "<Figure size 864x288 with 2 Axes>"
      ]
     },
     "metadata": {
      "needs_background": "light"
     },
     "output_type": "display_data"
    }
   ],
   "source": [
    "fig, axs = plt.subplots(ncols=2,figsize=(12,4))\n",
    "sns.boxplot(df_copy.bmi,ax=axs[0])\n",
    "sns.boxplot(df_copy.blood_pressure,ax=axs[1])"
   ]
  },
  {
   "cell_type": "markdown",
   "id": "c7e285dd",
   "metadata": {},
   "source": [
    "* As we can see from above boxplots, they both have outliers and are skewed so it is better to replace null values with median as mean value are affected due to the outliers"
   ]
  },
  {
   "cell_type": "code",
   "execution_count": 860,
   "id": "37caf043",
   "metadata": {},
   "outputs": [],
   "source": [
    "df_copy['bmi'].fillna(value=df_copy['bmi'].median(),inplace=True) #replacing NaN with Median value\n",
    "df_copy['blood_pressure'].fillna(value=df_copy['blood_pressure'].median(),inplace=True) #replacing NaN with Median value\n"
   ]
  },
  {
   "cell_type": "code",
   "execution_count": 861,
   "id": "c804a670",
   "metadata": {},
   "outputs": [
    {
     "data": {
      "text/plain": [
       "age                     0\n",
       "weight                  0\n",
       "bmi                     0\n",
       "blood_pressure          0\n",
       "insulin_test          370\n",
       "liver_stress_test       0\n",
       "cardio_stress_test    227\n",
       "years_smoking           0\n",
       "zeta_disease            0\n",
       "dtype: int64"
      ]
     },
     "execution_count": 861,
     "metadata": {},
     "output_type": "execute_result"
    }
   ],
   "source": [
    "df_copy.isnull().sum() # checking if null values are replaced"
   ]
  },
  {
   "cell_type": "code",
   "execution_count": 862,
   "id": "37cb01d5",
   "metadata": {},
   "outputs": [],
   "source": [
    "df_method1 =df_copy.dropna() # dropped null value rows having null values in insulin_test and cardio_stress_test"
   ]
  },
  {
   "cell_type": "code",
   "execution_count": 863,
   "id": "4cedfff1",
   "metadata": {},
   "outputs": [
    {
     "data": {
      "text/plain": [
       "age                   0\n",
       "weight                0\n",
       "bmi                   0\n",
       "blood_pressure        0\n",
       "insulin_test          0\n",
       "liver_stress_test     0\n",
       "cardio_stress_test    0\n",
       "years_smoking         0\n",
       "zeta_disease          0\n",
       "dtype: int64"
      ]
     },
     "execution_count": 863,
     "metadata": {},
     "output_type": "execute_result"
    }
   ],
   "source": [
    "df_method1.isnull().sum()"
   ]
  },
  {
   "cell_type": "code",
   "execution_count": 864,
   "id": "ffab123c",
   "metadata": {},
   "outputs": [
    {
     "data": {
      "text/html": [
       "<div>\n",
       "<style scoped>\n",
       "    .dataframe tbody tr th:only-of-type {\n",
       "        vertical-align: middle;\n",
       "    }\n",
       "\n",
       "    .dataframe tbody tr th {\n",
       "        vertical-align: top;\n",
       "    }\n",
       "\n",
       "    .dataframe thead th {\n",
       "        text-align: right;\n",
       "    }\n",
       "</style>\n",
       "<table border=\"1\" class=\"dataframe\">\n",
       "  <thead>\n",
       "    <tr style=\"text-align: right;\">\n",
       "      <th></th>\n",
       "      <th>age</th>\n",
       "      <th>weight</th>\n",
       "      <th>bmi</th>\n",
       "      <th>blood_pressure</th>\n",
       "      <th>insulin_test</th>\n",
       "      <th>liver_stress_test</th>\n",
       "      <th>cardio_stress_test</th>\n",
       "      <th>years_smoking</th>\n",
       "      <th>zeta_disease</th>\n",
       "    </tr>\n",
       "  </thead>\n",
       "  <tbody>\n",
       "    <tr>\n",
       "      <th>1</th>\n",
       "      <td>23</td>\n",
       "      <td>150</td>\n",
       "      <td>38.5</td>\n",
       "      <td>68.0</td>\n",
       "      <td>71.0</td>\n",
       "      <td>0.3868</td>\n",
       "      <td>55.0</td>\n",
       "      <td>2</td>\n",
       "      <td>0</td>\n",
       "    </tr>\n",
       "    <tr>\n",
       "      <th>3</th>\n",
       "      <td>18</td>\n",
       "      <td>150</td>\n",
       "      <td>30.8</td>\n",
       "      <td>70.0</td>\n",
       "      <td>1033.0</td>\n",
       "      <td>0.6598</td>\n",
       "      <td>56.0</td>\n",
       "      <td>0</td>\n",
       "      <td>0</td>\n",
       "    </tr>\n",
       "    <tr>\n",
       "      <th>4</th>\n",
       "      <td>24</td>\n",
       "      <td>160</td>\n",
       "      <td>32.4</td>\n",
       "      <td>74.0</td>\n",
       "      <td>125.0</td>\n",
       "      <td>0.7608</td>\n",
       "      <td>59.0</td>\n",
       "      <td>2</td>\n",
       "      <td>0</td>\n",
       "    </tr>\n",
       "    <tr>\n",
       "      <th>6</th>\n",
       "      <td>20</td>\n",
       "      <td>154</td>\n",
       "      <td>27.8</td>\n",
       "      <td>64.0</td>\n",
       "      <td>116.0</td>\n",
       "      <td>0.5168</td>\n",
       "      <td>53.0</td>\n",
       "      <td>0</td>\n",
       "      <td>0</td>\n",
       "    </tr>\n",
       "    <tr>\n",
       "      <th>7</th>\n",
       "      <td>37</td>\n",
       "      <td>167</td>\n",
       "      <td>34.5</td>\n",
       "      <td>88.0</td>\n",
       "      <td>145.0</td>\n",
       "      <td>0.4658</td>\n",
       "      <td>54.0</td>\n",
       "      <td>1</td>\n",
       "      <td>1</td>\n",
       "    </tr>\n",
       "    <tr>\n",
       "      <th>...</th>\n",
       "      <td>...</td>\n",
       "      <td>...</td>\n",
       "      <td>...</td>\n",
       "      <td>...</td>\n",
       "      <td>...</td>\n",
       "      <td>...</td>\n",
       "      <td>...</td>\n",
       "      <td>...</td>\n",
       "      <td>...</td>\n",
       "    </tr>\n",
       "    <tr>\n",
       "      <th>792</th>\n",
       "      <td>56</td>\n",
       "      <td>239</td>\n",
       "      <td>30.1</td>\n",
       "      <td>60.0</td>\n",
       "      <td>846.0</td>\n",
       "      <td>0.4608</td>\n",
       "      <td>53.0</td>\n",
       "      <td>1</td>\n",
       "      <td>1</td>\n",
       "    </tr>\n",
       "    <tr>\n",
       "      <th>793</th>\n",
       "      <td>22</td>\n",
       "      <td>118</td>\n",
       "      <td>25.0</td>\n",
       "      <td>70.0</td>\n",
       "      <td>66.0</td>\n",
       "      <td>0.2498</td>\n",
       "      <td>62.0</td>\n",
       "      <td>2</td>\n",
       "      <td>0</td>\n",
       "    </tr>\n",
       "    <tr>\n",
       "      <th>794</th>\n",
       "      <td>46</td>\n",
       "      <td>176</td>\n",
       "      <td>38.5</td>\n",
       "      <td>88.0</td>\n",
       "      <td>108.0</td>\n",
       "      <td>0.4118</td>\n",
       "      <td>66.0</td>\n",
       "      <td>8</td>\n",
       "      <td>0</td>\n",
       "    </tr>\n",
       "    <tr>\n",
       "      <th>795</th>\n",
       "      <td>26</td>\n",
       "      <td>161</td>\n",
       "      <td>28.4</td>\n",
       "      <td>90.0</td>\n",
       "      <td>78.0</td>\n",
       "      <td>0.5578</td>\n",
       "      <td>42.0</td>\n",
       "      <td>3</td>\n",
       "      <td>0</td>\n",
       "    </tr>\n",
       "    <tr>\n",
       "      <th>798</th>\n",
       "      <td>109</td>\n",
       "      <td>139</td>\n",
       "      <td>28.1</td>\n",
       "      <td>66.0</td>\n",
       "      <td>94.0</td>\n",
       "      <td>0.2298</td>\n",
       "      <td>53.0</td>\n",
       "      <td>1</td>\n",
       "      <td>0</td>\n",
       "    </tr>\n",
       "  </tbody>\n",
       "</table>\n",
       "<p>430 rows × 9 columns</p>\n",
       "</div>"
      ],
      "text/plain": [
       "     age  weight   bmi  blood_pressure  insulin_test  liver_stress_test  \\\n",
       "1     23     150  38.5            68.0          71.0             0.3868   \n",
       "3     18     150  30.8            70.0        1033.0             0.6598   \n",
       "4     24     160  32.4            74.0         125.0             0.7608   \n",
       "6     20     154  27.8            64.0         116.0             0.5168   \n",
       "7     37     167  34.5            88.0         145.0             0.4658   \n",
       "..   ...     ...   ...             ...           ...                ...   \n",
       "792   56     239  30.1            60.0         846.0             0.4608   \n",
       "793   22     118  25.0            70.0          66.0             0.2498   \n",
       "794   46     176  38.5            88.0         108.0             0.4118   \n",
       "795   26     161  28.4            90.0          78.0             0.5578   \n",
       "798  109     139  28.1            66.0          94.0             0.2298   \n",
       "\n",
       "     cardio_stress_test  years_smoking  zeta_disease  \n",
       "1                  55.0              2             0  \n",
       "3                  56.0              0             0  \n",
       "4                  59.0              2             0  \n",
       "6                  53.0              0             0  \n",
       "7                  54.0              1             1  \n",
       "..                  ...            ...           ...  \n",
       "792                53.0              1             1  \n",
       "793                62.0              2             0  \n",
       "794                66.0              8             0  \n",
       "795                42.0              3             0  \n",
       "798                53.0              1             0  \n",
       "\n",
       "[430 rows x 9 columns]"
      ]
     },
     "execution_count": 864,
     "metadata": {},
     "output_type": "execute_result"
    }
   ],
   "source": [
    "df_method1"
   ]
  },
  {
   "cell_type": "markdown",
   "id": "500b28e6",
   "metadata": {},
   "source": [
    "* Here we can see that the number of rows remaining are only 430 so half of the data was lost but still we keep both the features for prediction. Removing null rows is only suggested when you have a large dataset and you have less Null Rows, but as you can see that for this example almost 50% data was lost. Only tested this to show different methods."
   ]
  },
  {
   "cell_type": "code",
   "execution_count": null,
   "id": "934573ac",
   "metadata": {},
   "outputs": [],
   "source": []
  },
  {
   "cell_type": "code",
   "execution_count": 865,
   "id": "daa917d4",
   "metadata": {},
   "outputs": [],
   "source": [
    "#Splitting dataset into X(input) and Y(output) \n",
    "X = df_method1.drop(columns=['zeta_disease'])\n",
    "Y = df_method1['zeta_disease']\n"
   ]
  },
  {
   "cell_type": "code",
   "execution_count": 866,
   "id": "691e339c",
   "metadata": {},
   "outputs": [],
   "source": [
    "#Splitting into X_train, X_test, Y_train and Y_test\n",
    "X_train, X_test, y_train, y_test = train_test_split(X, Y, test_size=0.3, random_state = 1)"
   ]
  },
  {
   "cell_type": "markdown",
   "id": "96f05c17",
   "metadata": {},
   "source": [
    "#### Logistic Regression"
   ]
  },
  {
   "cell_type": "code",
   "execution_count": 989,
   "id": "c25a6750",
   "metadata": {},
   "outputs": [
    {
     "name": "stdout",
     "output_type": "stream",
     "text": [
      "Train Accuracy =  0.7906976744186046\n",
      "Test Accuracy =  0.7674418604651163\n",
      "F1 score = 0.5945945945945945\n",
      "Precision =  0.7333333333333333\n",
      "Recall =  0.5\n"
     ]
    },
    {
     "data": {
      "text/plain": [
       "Text(33.0, 0.5, 'Actual')"
      ]
     },
     "execution_count": 989,
     "metadata": {},
     "output_type": "execute_result"
    },
    {
     "data": {
      "image/png": "[encoded data removed]",
      "text/plain": [
       "<Figure size 432x288 with 2 Axes>"
      ]
     },
     "metadata": {
      "needs_background": "light"
     },
     "output_type": "display_data"
    }
   ],
   "source": [
    "#Trying logistic regression because it mostly works better for binary classification kind of problems\n",
    "clf = LogisticRegression(random_state=None, max_iter = 200).fit(X_train, y_train)\n",
    "clf.predict(X_train)\n",
    "print(\"Train Accuracy = \",clf.score(X_train, y_train)) #To check for overfitting or underfitting\n",
    "\n",
    "predict=clf.predict(X_test)\n",
    "print(\"Test Accuracy = \",clf.score(X_test, y_test))\n",
    "print(\"F1 score =\", f1_score(y_test, predict))\n",
    "print(\"Precision = \",precision_score(y_test,predict))\n",
    "print(\"Recall = \",recall_score(y_test,predict))\n",
    "ax=plt.subplot()\n",
    "sns.heatmap(confusion_matrix(y_test,predict),annot=True,ax=ax,fmt='g')\n",
    "ax.set_title('Confusion Matrix')\n",
    "ax.set_xlabel('Predicted')\n",
    "ax.set_ylabel('Actual')\n"
   ]
  },
  {
   "cell_type": "markdown",
   "id": "281c14ed",
   "metadata": {},
   "source": [
    "#### Random Forest Classifier"
   ]
  },
  {
   "cell_type": "code",
   "execution_count": 1025,
   "id": "aebf6085",
   "metadata": {},
   "outputs": [
    {
     "name": "stdout",
     "output_type": "stream",
     "text": [
      "Train Accuracy =  0.8172757475083057\n",
      "Test Accuracy =  0.8062015503875969\n",
      "F1 score = 0.6268656716417911\n",
      "Precision =  0.9130434782608695\n",
      "Recall =  0.4772727272727273\n"
     ]
    },
    {
     "data": {
      "text/plain": [
       "Text(33.0, 0.5, 'Actual')"
      ]
     },
     "execution_count": 1025,
     "metadata": {},
     "output_type": "execute_result"
    },
    {
     "data": {
      "image/png": "[encoded data removed]",
      "text/plain": [
       "<Figure size 432x288 with 2 Axes>"
      ]
     },
     "metadata": {
      "needs_background": "light"
     },
     "output_type": "display_data"
    }
   ],
   "source": [
    "clf2 = RandomForestClassifier(max_depth=2, random_state=1)\n",
    "clf2.fit(X_train, y_train)\n",
    "clf2.predict(X_train)\n",
    "print(\"Train Accuracy = \",clf2.score(X_train, y_train)) #To check for overfitting or underfitting\n",
    "\n",
    "predict=clf2.predict(X_test)\n",
    "print(\"Test Accuracy = \",clf2.score(X_test, y_test))\n",
    "print(\"F1 score =\",f1_score(y_test, predict))\n",
    "print(\"Precision = \",precision_score(y_test,predict))\n",
    "print(\"Recall = \",recall_score(y_test,predict))\n",
    "ax=plt.subplot()\n",
    "sns.heatmap(confusion_matrix(y_test,predict),annot=True,ax=ax,fmt='g')\n",
    "ax.set_title('Confusion Matrix')\n",
    "ax.set_xlabel('Predicted')\n",
    "ax.set_ylabel('Actual')\n"
   ]
  },
  {
   "cell_type": "markdown",
   "id": "75b1a827",
   "metadata": {},
   "source": [
    "#### K Nearest Neighbors"
   ]
  },
  {
   "cell_type": "code",
   "execution_count": 1026,
   "id": "e98e7fff",
   "metadata": {},
   "outputs": [
    {
     "name": "stdout",
     "output_type": "stream",
     "text": [
      "Train Accuracy =  0.8770764119601329\n",
      "Test Accuracy =  0.6976744186046512\n",
      "F1 score = 0.3157894736842105\n",
      "Precision =  0.6923076923076923\n",
      "Recall =  0.20454545454545456\n"
     ]
    },
    {
     "data": {
      "text/plain": [
       "Text(33.0, 0.5, 'Actual')"
      ]
     },
     "execution_count": 1026,
     "metadata": {},
     "output_type": "execute_result"
    },
    {
     "data": {
      "image/png": "[encoded data removed]",
      "text/plain": [
       "<Figure size 432x288 with 2 Axes>"
      ]
     },
     "metadata": {
      "needs_background": "light"
     },
     "output_type": "display_data"
    }
   ],
   "source": [
    "clf3 = KNeighborsClassifier(n_neighbors=2)\n",
    "clf3.fit(X_train, y_train)\n",
    "clf3.predict(X_train)\n",
    "print(\"Train Accuracy = \",clf3.score(X_train, y_train)) #To check for overfitting or underfitting\n",
    "\n",
    "predict=clf3.predict(X_test)\n",
    "print(\"Test Accuracy = \",clf3.score(X_test, y_test))\n",
    "print(\"F1 score =\",f1_score(y_test, predict))\n",
    "print(\"Precision = \",precision_score(y_test,predict))\n",
    "print(\"Recall = \",recall_score(y_test,predict))\n",
    "\n",
    "ax=plt.subplot()\n",
    "sns.heatmap(confusion_matrix(y_test,predict),annot=True,ax=ax,fmt='g')\n",
    "ax.set_title('Confusion Matrix')\n",
    "ax.set_xlabel('Predicted')\n",
    "ax.set_ylabel('Actual')\n"
   ]
  },
  {
   "cell_type": "markdown",
   "id": "a749d9da",
   "metadata": {},
   "source": [
    "### Recursive Feature Elemination to find out which features are important"
   ]
  },
  {
   "cell_type": "code",
   "execution_count": 871,
   "id": "74fe8998",
   "metadata": {},
   "outputs": [
    {
     "name": "stdout",
     "output_type": "stream",
     "text": [
      "Num Features: 7\n",
      "Selected Features: [ True  True  True  True False  True  True  True]\n",
      "Feature Ranking: [1 1 1 1 2 1 1 1]\n"
     ]
    }
   ],
   "source": [
    "\n",
    "\n",
    "model = LogisticRegression(random_state=0, max_iter = 200)\n",
    "rfe = RFE(model,n_features_to_select=7)\n",
    "fit = rfe.fit(X, Y)\n",
    "print(\"Num Features: %s\" % (fit.n_features_))\n",
    "print(\"Selected Features: %s\" % (fit.support_))\n",
    "print(\"Feature Ranking: %s\" % (fit.ranking_))"
   ]
  },
  {
   "cell_type": "markdown",
   "id": "0ed4090b",
   "metadata": {},
   "source": [
    "* Here we can see that the feature insulin test is less important than other features to make prediction "
   ]
  },
  {
   "cell_type": "code",
   "execution_count": 872,
   "id": "adaf11c2",
   "metadata": {},
   "outputs": [
    {
     "name": "stderr",
     "output_type": "stream",
     "text": [
      "C:\\Users\\saumi\\anaconda3\\lib\\site-packages\\seaborn\\distributions.py:2557: FutureWarning: `distplot` is a deprecated function and will be removed in a future version. Please adapt your code to use either `displot` (a figure-level function with similar flexibility) or `histplot` (an axes-level function for histograms).\n",
      "  warnings.warn(msg, FutureWarning)\n"
     ]
    },
    {
     "data": {
      "text/plain": [
       "<AxesSubplot:xlabel='cardio_stress_test', ylabel='Density'>"
      ]
     },
     "execution_count": 872,
     "metadata": {},
     "output_type": "execute_result"
    },
    {
     "data": {
      "image/png": "[encoded data removed]",
      "text/plain": [
       "<Figure size 432x288 with 1 Axes>"
      ]
     },
     "metadata": {
      "needs_background": "light"
     },
     "output_type": "display_data"
    }
   ],
   "source": [
    "#Checking weather we can replace null values of cardio_Stress_test by mean if it is a normal curve\n",
    "\n",
    "sns.distplot(df_copy.cardio_stress_test)\n"
   ]
  },
  {
   "cell_type": "markdown",
   "id": "30051934",
   "metadata": {},
   "source": [
    "* Here we can see that it has some outliers and it is skewed so it is better to replace with the median value instead of mean value. We can also check outliers by plotting boxplot"
   ]
  },
  {
   "cell_type": "code",
   "execution_count": 873,
   "id": "225621c9",
   "metadata": {},
   "outputs": [
    {
     "name": "stderr",
     "output_type": "stream",
     "text": [
      "C:\\Users\\saumi\\anaconda3\\lib\\site-packages\\seaborn\\_decorators.py:36: FutureWarning: Pass the following variable as a keyword arg: x. From version 0.12, the only valid positional argument will be `data`, and passing other arguments without an explicit keyword will result in an error or misinterpretation.\n",
      "  warnings.warn(\n"
     ]
    },
    {
     "data": {
      "text/plain": [
       "<AxesSubplot:xlabel='cardio_stress_test'>"
      ]
     },
     "execution_count": 873,
     "metadata": {},
     "output_type": "execute_result"
    },
    {
     "data": {
      "image/png": "[encoded data removed]",
      "text/plain": [
       "<Figure size 432x288 with 1 Axes>"
      ]
     },
     "metadata": {
      "needs_background": "light"
     },
     "output_type": "display_data"
    }
   ],
   "source": [
    "sns.boxplot(df_copy.cardio_stress_test)"
   ]
  },
  {
   "cell_type": "markdown",
   "id": "b280cc09",
   "metadata": {},
   "source": [
    "### Method 2 - Removing Insulin test feature as it is not important. Replacing cardio stress test values by median.\n"
   ]
  },
  {
   "cell_type": "code",
   "execution_count": 874,
   "id": "51d4dc0a",
   "metadata": {},
   "outputs": [],
   "source": [
    "df_method2= df_copy.copy()"
   ]
  },
  {
   "cell_type": "code",
   "execution_count": 875,
   "id": "03776d2b",
   "metadata": {},
   "outputs": [
    {
     "data": {
      "text/html": [
       "<div>\n",
       "<style scoped>\n",
       "    .dataframe tbody tr th:only-of-type {\n",
       "        vertical-align: middle;\n",
       "    }\n",
       "\n",
       "    .dataframe tbody tr th {\n",
       "        vertical-align: top;\n",
       "    }\n",
       "\n",
       "    .dataframe thead th {\n",
       "        text-align: right;\n",
       "    }\n",
       "</style>\n",
       "<table border=\"1\" class=\"dataframe\">\n",
       "  <thead>\n",
       "    <tr style=\"text-align: right;\">\n",
       "      <th></th>\n",
       "      <th>age</th>\n",
       "      <th>weight</th>\n",
       "      <th>bmi</th>\n",
       "      <th>blood_pressure</th>\n",
       "      <th>insulin_test</th>\n",
       "      <th>liver_stress_test</th>\n",
       "      <th>cardio_stress_test</th>\n",
       "      <th>years_smoking</th>\n",
       "      <th>zeta_disease</th>\n",
       "    </tr>\n",
       "  </thead>\n",
       "  <tbody>\n",
       "    <tr>\n",
       "      <th>0</th>\n",
       "      <td>54</td>\n",
       "      <td>189</td>\n",
       "      <td>27.1</td>\n",
       "      <td>80.0</td>\n",
       "      <td>NaN</td>\n",
       "      <td>1.5038</td>\n",
       "      <td>NaN</td>\n",
       "      <td>10</td>\n",
       "      <td>0</td>\n",
       "    </tr>\n",
       "    <tr>\n",
       "      <th>1</th>\n",
       "      <td>23</td>\n",
       "      <td>150</td>\n",
       "      <td>38.5</td>\n",
       "      <td>68.0</td>\n",
       "      <td>71.0</td>\n",
       "      <td>0.3868</td>\n",
       "      <td>55.0</td>\n",
       "      <td>2</td>\n",
       "      <td>0</td>\n",
       "    </tr>\n",
       "    <tr>\n",
       "      <th>2</th>\n",
       "      <td>47</td>\n",
       "      <td>186</td>\n",
       "      <td>29.9</td>\n",
       "      <td>90.0</td>\n",
       "      <td>NaN</td>\n",
       "      <td>0.2728</td>\n",
       "      <td>NaN</td>\n",
       "      <td>7</td>\n",
       "      <td>0</td>\n",
       "    </tr>\n",
       "    <tr>\n",
       "      <th>3</th>\n",
       "      <td>18</td>\n",
       "      <td>150</td>\n",
       "      <td>30.8</td>\n",
       "      <td>70.0</td>\n",
       "      <td>1033.0</td>\n",
       "      <td>0.6598</td>\n",
       "      <td>56.0</td>\n",
       "      <td>0</td>\n",
       "      <td>0</td>\n",
       "    </tr>\n",
       "    <tr>\n",
       "      <th>4</th>\n",
       "      <td>24</td>\n",
       "      <td>160</td>\n",
       "      <td>32.4</td>\n",
       "      <td>74.0</td>\n",
       "      <td>125.0</td>\n",
       "      <td>0.7608</td>\n",
       "      <td>59.0</td>\n",
       "      <td>2</td>\n",
       "      <td>0</td>\n",
       "    </tr>\n",
       "    <tr>\n",
       "      <th>...</th>\n",
       "      <td>...</td>\n",
       "      <td>...</td>\n",
       "      <td>...</td>\n",
       "      <td>...</td>\n",
       "      <td>...</td>\n",
       "      <td>...</td>\n",
       "      <td>...</td>\n",
       "      <td>...</td>\n",
       "      <td>...</td>\n",
       "    </tr>\n",
       "    <tr>\n",
       "      <th>795</th>\n",
       "      <td>26</td>\n",
       "      <td>161</td>\n",
       "      <td>28.4</td>\n",
       "      <td>90.0</td>\n",
       "      <td>78.0</td>\n",
       "      <td>0.5578</td>\n",
       "      <td>42.0</td>\n",
       "      <td>3</td>\n",
       "      <td>0</td>\n",
       "    </tr>\n",
       "    <tr>\n",
       "      <th>796</th>\n",
       "      <td>37</td>\n",
       "      <td>165</td>\n",
       "      <td>33.7</td>\n",
       "      <td>60.0</td>\n",
       "      <td>NaN</td>\n",
       "      <td>0.3078</td>\n",
       "      <td>69.0</td>\n",
       "      <td>6</td>\n",
       "      <td>1</td>\n",
       "    </tr>\n",
       "    <tr>\n",
       "      <th>797</th>\n",
       "      <td>27</td>\n",
       "      <td>166</td>\n",
       "      <td>25.6</td>\n",
       "      <td>74.0</td>\n",
       "      <td>NaN</td>\n",
       "      <td>0.2638</td>\n",
       "      <td>NaN</td>\n",
       "      <td>5</td>\n",
       "      <td>0</td>\n",
       "    </tr>\n",
       "    <tr>\n",
       "      <th>798</th>\n",
       "      <td>109</td>\n",
       "      <td>139</td>\n",
       "      <td>28.1</td>\n",
       "      <td>66.0</td>\n",
       "      <td>94.0</td>\n",
       "      <td>0.2298</td>\n",
       "      <td>53.0</td>\n",
       "      <td>1</td>\n",
       "      <td>0</td>\n",
       "    </tr>\n",
       "    <tr>\n",
       "      <th>799</th>\n",
       "      <td>26</td>\n",
       "      <td>196</td>\n",
       "      <td>29.7</td>\n",
       "      <td>56.0</td>\n",
       "      <td>NaN</td>\n",
       "      <td>0.6268</td>\n",
       "      <td>NaN</td>\n",
       "      <td>1</td>\n",
       "      <td>0</td>\n",
       "    </tr>\n",
       "  </tbody>\n",
       "</table>\n",
       "<p>800 rows × 9 columns</p>\n",
       "</div>"
      ],
      "text/plain": [
       "     age  weight   bmi  blood_pressure  insulin_test  liver_stress_test  \\\n",
       "0     54     189  27.1            80.0           NaN             1.5038   \n",
       "1     23     150  38.5            68.0          71.0             0.3868   \n",
       "2     47     186  29.9            90.0           NaN             0.2728   \n",
       "3     18     150  30.8            70.0        1033.0             0.6598   \n",
       "4     24     160  32.4            74.0         125.0             0.7608   \n",
       "..   ...     ...   ...             ...           ...                ...   \n",
       "795   26     161  28.4            90.0          78.0             0.5578   \n",
       "796   37     165  33.7            60.0           NaN             0.3078   \n",
       "797   27     166  25.6            74.0           NaN             0.2638   \n",
       "798  109     139  28.1            66.0          94.0             0.2298   \n",
       "799   26     196  29.7            56.0           NaN             0.6268   \n",
       "\n",
       "     cardio_stress_test  years_smoking  zeta_disease  \n",
       "0                   NaN             10             0  \n",
       "1                  55.0              2             0  \n",
       "2                   NaN              7             0  \n",
       "3                  56.0              0             0  \n",
       "4                  59.0              2             0  \n",
       "..                  ...            ...           ...  \n",
       "795                42.0              3             0  \n",
       "796                69.0              6             1  \n",
       "797                 NaN              5             0  \n",
       "798                53.0              1             0  \n",
       "799                 NaN              1             0  \n",
       "\n",
       "[800 rows x 9 columns]"
      ]
     },
     "execution_count": 875,
     "metadata": {},
     "output_type": "execute_result"
    }
   ],
   "source": [
    "df_method2"
   ]
  },
  {
   "cell_type": "code",
   "execution_count": 876,
   "id": "3cfe11f7",
   "metadata": {},
   "outputs": [],
   "source": [
    "df_method2 = df_method2.drop(columns=['insulin_test'])\n",
    "df_method2['cardio_stress_test'].fillna(value=df_method2['cardio_stress_test'].median(),inplace=True)\n"
   ]
  },
  {
   "cell_type": "code",
   "execution_count": 877,
   "id": "54df50f1",
   "metadata": {},
   "outputs": [
    {
     "data": {
      "text/plain": [
       "age                   0\n",
       "weight                0\n",
       "bmi                   0\n",
       "blood_pressure        0\n",
       "liver_stress_test     0\n",
       "cardio_stress_test    0\n",
       "years_smoking         0\n",
       "zeta_disease          0\n",
       "dtype: int64"
      ]
     },
     "execution_count": 877,
     "metadata": {},
     "output_type": "execute_result"
    }
   ],
   "source": [
    "df_method2.isnull().sum()"
   ]
  },
  {
   "cell_type": "code",
   "execution_count": 878,
   "id": "799edc1b",
   "metadata": {},
   "outputs": [
    {
     "data": {
      "text/html": [
       "<div>\n",
       "<style scoped>\n",
       "    .dataframe tbody tr th:only-of-type {\n",
       "        vertical-align: middle;\n",
       "    }\n",
       "\n",
       "    .dataframe tbody tr th {\n",
       "        vertical-align: top;\n",
       "    }\n",
       "\n",
       "    .dataframe thead th {\n",
       "        text-align: right;\n",
       "    }\n",
       "</style>\n",
       "<table border=\"1\" class=\"dataframe\">\n",
       "  <thead>\n",
       "    <tr style=\"text-align: right;\">\n",
       "      <th></th>\n",
       "      <th>age</th>\n",
       "      <th>weight</th>\n",
       "      <th>bmi</th>\n",
       "      <th>blood_pressure</th>\n",
       "      <th>liver_stress_test</th>\n",
       "      <th>cardio_stress_test</th>\n",
       "      <th>years_smoking</th>\n",
       "      <th>zeta_disease</th>\n",
       "    </tr>\n",
       "  </thead>\n",
       "  <tbody>\n",
       "    <tr>\n",
       "      <th>0</th>\n",
       "      <td>54</td>\n",
       "      <td>189</td>\n",
       "      <td>27.1</td>\n",
       "      <td>80.0</td>\n",
       "      <td>1.5038</td>\n",
       "      <td>59.0</td>\n",
       "      <td>10</td>\n",
       "      <td>0</td>\n",
       "    </tr>\n",
       "    <tr>\n",
       "      <th>1</th>\n",
       "      <td>23</td>\n",
       "      <td>150</td>\n",
       "      <td>38.5</td>\n",
       "      <td>68.0</td>\n",
       "      <td>0.3868</td>\n",
       "      <td>55.0</td>\n",
       "      <td>2</td>\n",
       "      <td>0</td>\n",
       "    </tr>\n",
       "    <tr>\n",
       "      <th>2</th>\n",
       "      <td>47</td>\n",
       "      <td>186</td>\n",
       "      <td>29.9</td>\n",
       "      <td>90.0</td>\n",
       "      <td>0.2728</td>\n",
       "      <td>59.0</td>\n",
       "      <td>7</td>\n",
       "      <td>0</td>\n",
       "    </tr>\n",
       "    <tr>\n",
       "      <th>3</th>\n",
       "      <td>18</td>\n",
       "      <td>150</td>\n",
       "      <td>30.8</td>\n",
       "      <td>70.0</td>\n",
       "      <td>0.6598</td>\n",
       "      <td>56.0</td>\n",
       "      <td>0</td>\n",
       "      <td>0</td>\n",
       "    </tr>\n",
       "    <tr>\n",
       "      <th>4</th>\n",
       "      <td>24</td>\n",
       "      <td>160</td>\n",
       "      <td>32.4</td>\n",
       "      <td>74.0</td>\n",
       "      <td>0.7608</td>\n",
       "      <td>59.0</td>\n",
       "      <td>2</td>\n",
       "      <td>0</td>\n",
       "    </tr>\n",
       "    <tr>\n",
       "      <th>...</th>\n",
       "      <td>...</td>\n",
       "      <td>...</td>\n",
       "      <td>...</td>\n",
       "      <td>...</td>\n",
       "      <td>...</td>\n",
       "      <td>...</td>\n",
       "      <td>...</td>\n",
       "      <td>...</td>\n",
       "    </tr>\n",
       "    <tr>\n",
       "      <th>795</th>\n",
       "      <td>26</td>\n",
       "      <td>161</td>\n",
       "      <td>28.4</td>\n",
       "      <td>90.0</td>\n",
       "      <td>0.5578</td>\n",
       "      <td>42.0</td>\n",
       "      <td>3</td>\n",
       "      <td>0</td>\n",
       "    </tr>\n",
       "    <tr>\n",
       "      <th>796</th>\n",
       "      <td>37</td>\n",
       "      <td>165</td>\n",
       "      <td>33.7</td>\n",
       "      <td>60.0</td>\n",
       "      <td>0.3078</td>\n",
       "      <td>69.0</td>\n",
       "      <td>6</td>\n",
       "      <td>1</td>\n",
       "    </tr>\n",
       "    <tr>\n",
       "      <th>797</th>\n",
       "      <td>27</td>\n",
       "      <td>166</td>\n",
       "      <td>25.6</td>\n",
       "      <td>74.0</td>\n",
       "      <td>0.2638</td>\n",
       "      <td>59.0</td>\n",
       "      <td>5</td>\n",
       "      <td>0</td>\n",
       "    </tr>\n",
       "    <tr>\n",
       "      <th>798</th>\n",
       "      <td>109</td>\n",
       "      <td>139</td>\n",
       "      <td>28.1</td>\n",
       "      <td>66.0</td>\n",
       "      <td>0.2298</td>\n",
       "      <td>53.0</td>\n",
       "      <td>1</td>\n",
       "      <td>0</td>\n",
       "    </tr>\n",
       "    <tr>\n",
       "      <th>799</th>\n",
       "      <td>26</td>\n",
       "      <td>196</td>\n",
       "      <td>29.7</td>\n",
       "      <td>56.0</td>\n",
       "      <td>0.6268</td>\n",
       "      <td>59.0</td>\n",
       "      <td>1</td>\n",
       "      <td>0</td>\n",
       "    </tr>\n",
       "  </tbody>\n",
       "</table>\n",
       "<p>800 rows × 8 columns</p>\n",
       "</div>"
      ],
      "text/plain": [
       "     age  weight   bmi  blood_pressure  liver_stress_test  cardio_stress_test  \\\n",
       "0     54     189  27.1            80.0             1.5038                59.0   \n",
       "1     23     150  38.5            68.0             0.3868                55.0   \n",
       "2     47     186  29.9            90.0             0.2728                59.0   \n",
       "3     18     150  30.8            70.0             0.6598                56.0   \n",
       "4     24     160  32.4            74.0             0.7608                59.0   \n",
       "..   ...     ...   ...             ...                ...                 ...   \n",
       "795   26     161  28.4            90.0             0.5578                42.0   \n",
       "796   37     165  33.7            60.0             0.3078                69.0   \n",
       "797   27     166  25.6            74.0             0.2638                59.0   \n",
       "798  109     139  28.1            66.0             0.2298                53.0   \n",
       "799   26     196  29.7            56.0             0.6268                59.0   \n",
       "\n",
       "     years_smoking  zeta_disease  \n",
       "0               10             0  \n",
       "1                2             0  \n",
       "2                7             0  \n",
       "3                0             0  \n",
       "4                2             0  \n",
       "..             ...           ...  \n",
       "795              3             0  \n",
       "796              6             1  \n",
       "797              5             0  \n",
       "798              1             0  \n",
       "799              1             0  \n",
       "\n",
       "[800 rows x 8 columns]"
      ]
     },
     "execution_count": 878,
     "metadata": {},
     "output_type": "execute_result"
    }
   ],
   "source": [
    "df_method2"
   ]
  },
  {
   "cell_type": "code",
   "execution_count": 879,
   "id": "5e172e35",
   "metadata": {},
   "outputs": [
    {
     "name": "stderr",
     "output_type": "stream",
     "text": [
      "C:\\Users\\saumi\\anaconda3\\lib\\site-packages\\seaborn\\distributions.py:2557: FutureWarning: `distplot` is a deprecated function and will be removed in a future version. Please adapt your code to use either `displot` (a figure-level function with similar flexibility) or `histplot` (an axes-level function for histograms).\n",
      "  warnings.warn(msg, FutureWarning)\n"
     ]
    },
    {
     "data": {
      "text/plain": [
       "<AxesSubplot:xlabel='cardio_stress_test', ylabel='Density'>"
      ]
     },
     "execution_count": 879,
     "metadata": {},
     "output_type": "execute_result"
    },
    {
     "data": {
      "image/png": "[encoded data removed]",
      "text/plain": [
       "<Figure size 432x288 with 1 Axes>"
      ]
     },
     "metadata": {
      "needs_background": "light"
     },
     "output_type": "display_data"
    }
   ],
   "source": [
    "sns.distplot(df_method2.cardio_stress_test)"
   ]
  },
  {
   "cell_type": "code",
   "execution_count": 880,
   "id": "20842f0b",
   "metadata": {},
   "outputs": [],
   "source": [
    "#Splitting dataset into X(input) and Y(output) \n",
    "X2 = df_method2.drop(columns=['zeta_disease'])\n",
    "Y2 = df_method2['zeta_disease']\n"
   ]
  },
  {
   "cell_type": "code",
   "execution_count": 881,
   "id": "a5121b4d",
   "metadata": {},
   "outputs": [
    {
     "data": {
      "text/html": [
       "<div>\n",
       "<style scoped>\n",
       "    .dataframe tbody tr th:only-of-type {\n",
       "        vertical-align: middle;\n",
       "    }\n",
       "\n",
       "    .dataframe tbody tr th {\n",
       "        vertical-align: top;\n",
       "    }\n",
       "\n",
       "    .dataframe thead th {\n",
       "        text-align: right;\n",
       "    }\n",
       "</style>\n",
       "<table border=\"1\" class=\"dataframe\">\n",
       "  <thead>\n",
       "    <tr style=\"text-align: right;\">\n",
       "      <th></th>\n",
       "      <th>age</th>\n",
       "      <th>weight</th>\n",
       "      <th>bmi</th>\n",
       "      <th>blood_pressure</th>\n",
       "      <th>liver_stress_test</th>\n",
       "      <th>cardio_stress_test</th>\n",
       "      <th>years_smoking</th>\n",
       "    </tr>\n",
       "  </thead>\n",
       "  <tbody>\n",
       "    <tr>\n",
       "      <th>0</th>\n",
       "      <td>54</td>\n",
       "      <td>189</td>\n",
       "      <td>27.1</td>\n",
       "      <td>80.0</td>\n",
       "      <td>1.5038</td>\n",
       "      <td>59.0</td>\n",
       "      <td>10</td>\n",
       "    </tr>\n",
       "    <tr>\n",
       "      <th>1</th>\n",
       "      <td>23</td>\n",
       "      <td>150</td>\n",
       "      <td>38.5</td>\n",
       "      <td>68.0</td>\n",
       "      <td>0.3868</td>\n",
       "      <td>55.0</td>\n",
       "      <td>2</td>\n",
       "    </tr>\n",
       "    <tr>\n",
       "      <th>2</th>\n",
       "      <td>47</td>\n",
       "      <td>186</td>\n",
       "      <td>29.9</td>\n",
       "      <td>90.0</td>\n",
       "      <td>0.2728</td>\n",
       "      <td>59.0</td>\n",
       "      <td>7</td>\n",
       "    </tr>\n",
       "    <tr>\n",
       "      <th>3</th>\n",
       "      <td>18</td>\n",
       "      <td>150</td>\n",
       "      <td>30.8</td>\n",
       "      <td>70.0</td>\n",
       "      <td>0.6598</td>\n",
       "      <td>56.0</td>\n",
       "      <td>0</td>\n",
       "    </tr>\n",
       "    <tr>\n",
       "      <th>4</th>\n",
       "      <td>24</td>\n",
       "      <td>160</td>\n",
       "      <td>32.4</td>\n",
       "      <td>74.0</td>\n",
       "      <td>0.7608</td>\n",
       "      <td>59.0</td>\n",
       "      <td>2</td>\n",
       "    </tr>\n",
       "    <tr>\n",
       "      <th>...</th>\n",
       "      <td>...</td>\n",
       "      <td>...</td>\n",
       "      <td>...</td>\n",
       "      <td>...</td>\n",
       "      <td>...</td>\n",
       "      <td>...</td>\n",
       "      <td>...</td>\n",
       "    </tr>\n",
       "    <tr>\n",
       "      <th>795</th>\n",
       "      <td>26</td>\n",
       "      <td>161</td>\n",
       "      <td>28.4</td>\n",
       "      <td>90.0</td>\n",
       "      <td>0.5578</td>\n",
       "      <td>42.0</td>\n",
       "      <td>3</td>\n",
       "    </tr>\n",
       "    <tr>\n",
       "      <th>796</th>\n",
       "      <td>37</td>\n",
       "      <td>165</td>\n",
       "      <td>33.7</td>\n",
       "      <td>60.0</td>\n",
       "      <td>0.3078</td>\n",
       "      <td>69.0</td>\n",
       "      <td>6</td>\n",
       "    </tr>\n",
       "    <tr>\n",
       "      <th>797</th>\n",
       "      <td>27</td>\n",
       "      <td>166</td>\n",
       "      <td>25.6</td>\n",
       "      <td>74.0</td>\n",
       "      <td>0.2638</td>\n",
       "      <td>59.0</td>\n",
       "      <td>5</td>\n",
       "    </tr>\n",
       "    <tr>\n",
       "      <th>798</th>\n",
       "      <td>109</td>\n",
       "      <td>139</td>\n",
       "      <td>28.1</td>\n",
       "      <td>66.0</td>\n",
       "      <td>0.2298</td>\n",
       "      <td>53.0</td>\n",
       "      <td>1</td>\n",
       "    </tr>\n",
       "    <tr>\n",
       "      <th>799</th>\n",
       "      <td>26</td>\n",
       "      <td>196</td>\n",
       "      <td>29.7</td>\n",
       "      <td>56.0</td>\n",
       "      <td>0.6268</td>\n",
       "      <td>59.0</td>\n",
       "      <td>1</td>\n",
       "    </tr>\n",
       "  </tbody>\n",
       "</table>\n",
       "<p>800 rows × 7 columns</p>\n",
       "</div>"
      ],
      "text/plain": [
       "     age  weight   bmi  blood_pressure  liver_stress_test  cardio_stress_test  \\\n",
       "0     54     189  27.1            80.0             1.5038                59.0   \n",
       "1     23     150  38.5            68.0             0.3868                55.0   \n",
       "2     47     186  29.9            90.0             0.2728                59.0   \n",
       "3     18     150  30.8            70.0             0.6598                56.0   \n",
       "4     24     160  32.4            74.0             0.7608                59.0   \n",
       "..   ...     ...   ...             ...                ...                 ...   \n",
       "795   26     161  28.4            90.0             0.5578                42.0   \n",
       "796   37     165  33.7            60.0             0.3078                69.0   \n",
       "797   27     166  25.6            74.0             0.2638                59.0   \n",
       "798  109     139  28.1            66.0             0.2298                53.0   \n",
       "799   26     196  29.7            56.0             0.6268                59.0   \n",
       "\n",
       "     years_smoking  \n",
       "0               10  \n",
       "1                2  \n",
       "2                7  \n",
       "3                0  \n",
       "4                2  \n",
       "..             ...  \n",
       "795              3  \n",
       "796              6  \n",
       "797              5  \n",
       "798              1  \n",
       "799              1  \n",
       "\n",
       "[800 rows x 7 columns]"
      ]
     },
     "execution_count": 881,
     "metadata": {},
     "output_type": "execute_result"
    }
   ],
   "source": [
    "X2"
   ]
  },
  {
   "cell_type": "code",
   "execution_count": 882,
   "id": "3b6ee7bc",
   "metadata": {},
   "outputs": [],
   "source": [
    "#Splitting into X_train, X_test, Y_train and Y_test\n",
    "X_train2, X_test2, y_train2, y_test2 = train_test_split(X2, Y2, test_size=0.3,random_state= 1)"
   ]
  },
  {
   "cell_type": "markdown",
   "id": "d764bfc3",
   "metadata": {},
   "source": [
    "#### Logistic Regression"
   ]
  },
  {
   "cell_type": "code",
   "execution_count": 1024,
   "id": "bacfd966",
   "metadata": {},
   "outputs": [
    {
     "name": "stdout",
     "output_type": "stream",
     "text": [
      "Train Accuracy =  0.775\n",
      "Test Accuracy =  0.7708333333333334\n",
      "F1 score = 0.6451612903225805\n",
      "Precision =  0.704225352112676\n",
      "Recall =  0.5952380952380952\n"
     ]
    },
    {
     "data": {
      "text/plain": [
       "Text(33.0, 0.5, 'Actual')"
      ]
     },
     "execution_count": 1024,
     "metadata": {},
     "output_type": "execute_result"
    },
    {
     "data": {
      "image/png": "[encoded data removed]",
      "text/plain": [
       "<Figure size 432x288 with 2 Axes>"
      ]
     },
     "metadata": {
      "needs_background": "light"
     },
     "output_type": "display_data"
    }
   ],
   "source": [
    "clf4 = LogisticRegression(random_state=None, max_iter = 200).fit(X_train2, y_train2)\n",
    "clf4.predict(X_train2)\n",
    "print(\"Train Accuracy = \",clf4.score(X_train2, y_train2)) #To check for overfitting or underfitting\n",
    "\n",
    "predict=clf4.predict(X_test2)\n",
    "print(\"Test Accuracy = \",clf4.score(X_test2, y_test2))\n",
    "print(\"F1 score =\",f1_score(y_test2, predict))\n",
    "print(\"Precision = \",precision_score(y_test2,predict))\n",
    "print(\"Recall = \",recall_score(y_test2,predict))\n",
    "\n",
    "ax=plt.subplot()\n",
    "sns.heatmap(confusion_matrix(y_test2,predict),annot=True,ax=ax,fmt='g')\n",
    "ax.set_title('Confusion Matrix')\n",
    "ax.set_xlabel('Predicted')\n",
    "ax.set_ylabel('Actual')"
   ]
  },
  {
   "cell_type": "markdown",
   "id": "7f44cb68",
   "metadata": {},
   "source": [
    "* It has a better accuracy but in our case Recall is important as correctly predicting people having virus is important. Here higher False Negative i.e. people actually having virus but are release will cause an issue.\n"
   ]
  },
  {
   "cell_type": "markdown",
   "id": "8155d5aa",
   "metadata": {},
   "source": [
    "#### Random Forest Classifier"
   ]
  },
  {
   "cell_type": "code",
   "execution_count": 1002,
   "id": "c4c0c56a",
   "metadata": {},
   "outputs": [
    {
     "name": "stdout",
     "output_type": "stream",
     "text": [
      "Train Accuracy =  0.8214285714285714\n",
      "Test Accuracy =  0.775\n",
      "F1 score = 0.6197183098591549\n",
      "Precision =  0.7586206896551724\n",
      "Recall =  0.5238095238095238\n"
     ]
    },
    {
     "data": {
      "text/plain": [
       "Text(33.0, 0.5, 'Actual')"
      ]
     },
     "execution_count": 1002,
     "metadata": {},
     "output_type": "execute_result"
    },
    {
     "data": {
      "image/png": "[encoded data removed]",
      "text/plain": [
       "<Figure size 432x288 with 2 Axes>"
      ]
     },
     "metadata": {
      "needs_background": "light"
     },
     "output_type": "display_data"
    }
   ],
   "source": [
    "clf5 = RandomForestClassifier(max_depth=4, random_state=1)\n",
    "clf5.fit(X_train2, y_train2)\n",
    "clf5.predict(X_train2)\n",
    "print(\"Train Accuracy = \",clf5.score(X_train2, y_train2)) #To check for overfitting or underfitting\n",
    "\n",
    "predict=clf5.predict(X_test2)\n",
    "print(\"Test Accuracy = \",clf5.score(X_test2, y_test2))\n",
    "print(\"F1 score =\",f1_score(y_test2, predict))\n",
    "\n",
    "print(\"Precision = \",precision_score(y_test2,predict))\n",
    "print(\"Recall = \",recall_score(y_test2,predict))\n",
    "ax=plt.subplot()\n",
    "sns.heatmap(confusion_matrix(y_test2,predict),annot=True,ax=ax,fmt='g')\n",
    "ax.set_title('Confusion Matrix')\n",
    "ax.set_xlabel('Predicted')\n",
    "ax.set_ylabel('Actual')"
   ]
  },
  {
   "cell_type": "markdown",
   "id": "638d0e06",
   "metadata": {},
   "source": [
    "#### K NN"
   ]
  },
  {
   "cell_type": "code",
   "execution_count": 1003,
   "id": "3fae7e58",
   "metadata": {},
   "outputs": [
    {
     "name": "stdout",
     "output_type": "stream",
     "text": [
      "Train Accuracy =  0.8375\n",
      "Test Accuracy =  0.725\n",
      "F1 score = 0.5352112676056338\n",
      "Precision =  0.6551724137931034\n",
      "Recall =  0.4523809523809524\n"
     ]
    },
    {
     "data": {
      "text/plain": [
       "Text(33.0, 0.5, 'Actual')"
      ]
     },
     "execution_count": 1003,
     "metadata": {},
     "output_type": "execute_result"
    },
    {
     "data": {
      "image/png": "[encoded data removed]",
      "text/plain": [
       "<Figure size 432x288 with 2 Axes>"
      ]
     },
     "metadata": {
      "needs_background": "light"
     },
     "output_type": "display_data"
    }
   ],
   "source": [
    "clf6 = KNeighborsClassifier(n_neighbors=2)\n",
    "clf6.fit(X_train2, y_train2)\n",
    "clf6.predict(X_train2)\n",
    "print(\"Train Accuracy = \",clf6.score(X_train2, y_train2)) #To check for overfitting or underfitting\n",
    "\n",
    "predict=clf6.predict(X_test2)\n",
    "print(\"Test Accuracy = \",clf6.score(X_test2, y_test2))\n",
    "print(\"F1 score =\",f1_score(y_test2, predict))\n",
    "\n",
    "print(\"Precision = \",precision_score(y_test2,predict))\n",
    "print(\"Recall = \",recall_score(y_test2,predict))\n",
    "ax=plt.subplot()\n",
    "sns.heatmap(confusion_matrix(y_test2,predict),annot=True,ax=ax,fmt='g')\n",
    "ax.set_title('Confusion Matrix')\n",
    "ax.set_xlabel('Predicted')\n",
    "ax.set_ylabel('Actual')"
   ]
  },
  {
   "cell_type": "markdown",
   "id": "d73cf5d8",
   "metadata": {},
   "source": [
    "* Here we can see Logistic Regression has the highest F1 score for this method. It was better than removing null rows as we used feature selection and removed the less important column. By this method we almost had all of our data i.e. 800 rows of data for 7 columns."
   ]
  },
  {
   "cell_type": "markdown",
   "id": "96be732e",
   "metadata": {},
   "source": [
    "### Method 3 - Replacing NaN values of insulin_test and cardio_Stress_test with median values"
   ]
  },
  {
   "cell_type": "code",
   "execution_count": 925,
   "id": "93a8d4fe",
   "metadata": {},
   "outputs": [],
   "source": [
    "df_method3= df_copy.copy()"
   ]
  },
  {
   "cell_type": "code",
   "execution_count": 926,
   "id": "686ca31d",
   "metadata": {},
   "outputs": [
    {
     "data": {
      "text/html": [
       "<div>\n",
       "<style scoped>\n",
       "    .dataframe tbody tr th:only-of-type {\n",
       "        vertical-align: middle;\n",
       "    }\n",
       "\n",
       "    .dataframe tbody tr th {\n",
       "        vertical-align: top;\n",
       "    }\n",
       "\n",
       "    .dataframe thead th {\n",
       "        text-align: right;\n",
       "    }\n",
       "</style>\n",
       "<table border=\"1\" class=\"dataframe\">\n",
       "  <thead>\n",
       "    <tr style=\"text-align: right;\">\n",
       "      <th></th>\n",
       "      <th>age</th>\n",
       "      <th>weight</th>\n",
       "      <th>bmi</th>\n",
       "      <th>blood_pressure</th>\n",
       "      <th>insulin_test</th>\n",
       "      <th>liver_stress_test</th>\n",
       "      <th>cardio_stress_test</th>\n",
       "      <th>years_smoking</th>\n",
       "      <th>zeta_disease</th>\n",
       "    </tr>\n",
       "  </thead>\n",
       "  <tbody>\n",
       "    <tr>\n",
       "      <th>0</th>\n",
       "      <td>54</td>\n",
       "      <td>189</td>\n",
       "      <td>27.1</td>\n",
       "      <td>80.0</td>\n",
       "      <td>NaN</td>\n",
       "      <td>1.5038</td>\n",
       "      <td>NaN</td>\n",
       "      <td>10</td>\n",
       "      <td>0</td>\n",
       "    </tr>\n",
       "    <tr>\n",
       "      <th>1</th>\n",
       "      <td>23</td>\n",
       "      <td>150</td>\n",
       "      <td>38.5</td>\n",
       "      <td>68.0</td>\n",
       "      <td>71.0</td>\n",
       "      <td>0.3868</td>\n",
       "      <td>55.0</td>\n",
       "      <td>2</td>\n",
       "      <td>0</td>\n",
       "    </tr>\n",
       "    <tr>\n",
       "      <th>2</th>\n",
       "      <td>47</td>\n",
       "      <td>186</td>\n",
       "      <td>29.9</td>\n",
       "      <td>90.0</td>\n",
       "      <td>NaN</td>\n",
       "      <td>0.2728</td>\n",
       "      <td>NaN</td>\n",
       "      <td>7</td>\n",
       "      <td>0</td>\n",
       "    </tr>\n",
       "    <tr>\n",
       "      <th>3</th>\n",
       "      <td>18</td>\n",
       "      <td>150</td>\n",
       "      <td>30.8</td>\n",
       "      <td>70.0</td>\n",
       "      <td>1033.0</td>\n",
       "      <td>0.6598</td>\n",
       "      <td>56.0</td>\n",
       "      <td>0</td>\n",
       "      <td>0</td>\n",
       "    </tr>\n",
       "    <tr>\n",
       "      <th>4</th>\n",
       "      <td>24</td>\n",
       "      <td>160</td>\n",
       "      <td>32.4</td>\n",
       "      <td>74.0</td>\n",
       "      <td>125.0</td>\n",
       "      <td>0.7608</td>\n",
       "      <td>59.0</td>\n",
       "      <td>2</td>\n",
       "      <td>0</td>\n",
       "    </tr>\n",
       "    <tr>\n",
       "      <th>...</th>\n",
       "      <td>...</td>\n",
       "      <td>...</td>\n",
       "      <td>...</td>\n",
       "      <td>...</td>\n",
       "      <td>...</td>\n",
       "      <td>...</td>\n",
       "      <td>...</td>\n",
       "      <td>...</td>\n",
       "      <td>...</td>\n",
       "    </tr>\n",
       "    <tr>\n",
       "      <th>795</th>\n",
       "      <td>26</td>\n",
       "      <td>161</td>\n",
       "      <td>28.4</td>\n",
       "      <td>90.0</td>\n",
       "      <td>78.0</td>\n",
       "      <td>0.5578</td>\n",
       "      <td>42.0</td>\n",
       "      <td>3</td>\n",
       "      <td>0</td>\n",
       "    </tr>\n",
       "    <tr>\n",
       "      <th>796</th>\n",
       "      <td>37</td>\n",
       "      <td>165</td>\n",
       "      <td>33.7</td>\n",
       "      <td>60.0</td>\n",
       "      <td>NaN</td>\n",
       "      <td>0.3078</td>\n",
       "      <td>69.0</td>\n",
       "      <td>6</td>\n",
       "      <td>1</td>\n",
       "    </tr>\n",
       "    <tr>\n",
       "      <th>797</th>\n",
       "      <td>27</td>\n",
       "      <td>166</td>\n",
       "      <td>25.6</td>\n",
       "      <td>74.0</td>\n",
       "      <td>NaN</td>\n",
       "      <td>0.2638</td>\n",
       "      <td>NaN</td>\n",
       "      <td>5</td>\n",
       "      <td>0</td>\n",
       "    </tr>\n",
       "    <tr>\n",
       "      <th>798</th>\n",
       "      <td>109</td>\n",
       "      <td>139</td>\n",
       "      <td>28.1</td>\n",
       "      <td>66.0</td>\n",
       "      <td>94.0</td>\n",
       "      <td>0.2298</td>\n",
       "      <td>53.0</td>\n",
       "      <td>1</td>\n",
       "      <td>0</td>\n",
       "    </tr>\n",
       "    <tr>\n",
       "      <th>799</th>\n",
       "      <td>26</td>\n",
       "      <td>196</td>\n",
       "      <td>29.7</td>\n",
       "      <td>56.0</td>\n",
       "      <td>NaN</td>\n",
       "      <td>0.6268</td>\n",
       "      <td>NaN</td>\n",
       "      <td>1</td>\n",
       "      <td>0</td>\n",
       "    </tr>\n",
       "  </tbody>\n",
       "</table>\n",
       "<p>800 rows × 9 columns</p>\n",
       "</div>"
      ],
      "text/plain": [
       "     age  weight   bmi  blood_pressure  insulin_test  liver_stress_test  \\\n",
       "0     54     189  27.1            80.0           NaN             1.5038   \n",
       "1     23     150  38.5            68.0          71.0             0.3868   \n",
       "2     47     186  29.9            90.0           NaN             0.2728   \n",
       "3     18     150  30.8            70.0        1033.0             0.6598   \n",
       "4     24     160  32.4            74.0         125.0             0.7608   \n",
       "..   ...     ...   ...             ...           ...                ...   \n",
       "795   26     161  28.4            90.0          78.0             0.5578   \n",
       "796   37     165  33.7            60.0           NaN             0.3078   \n",
       "797   27     166  25.6            74.0           NaN             0.2638   \n",
       "798  109     139  28.1            66.0          94.0             0.2298   \n",
       "799   26     196  29.7            56.0           NaN             0.6268   \n",
       "\n",
       "     cardio_stress_test  years_smoking  zeta_disease  \n",
       "0                   NaN             10             0  \n",
       "1                  55.0              2             0  \n",
       "2                   NaN              7             0  \n",
       "3                  56.0              0             0  \n",
       "4                  59.0              2             0  \n",
       "..                  ...            ...           ...  \n",
       "795                42.0              3             0  \n",
       "796                69.0              6             1  \n",
       "797                 NaN              5             0  \n",
       "798                53.0              1             0  \n",
       "799                 NaN              1             0  \n",
       "\n",
       "[800 rows x 9 columns]"
      ]
     },
     "execution_count": 926,
     "metadata": {},
     "output_type": "execute_result"
    }
   ],
   "source": [
    "df_method3"
   ]
  },
  {
   "cell_type": "code",
   "execution_count": 927,
   "id": "4e234e86",
   "metadata": {},
   "outputs": [],
   "source": [
    "df_method3['insulin_test'].fillna(value=df_method3['insulin_test'].median(),inplace=True)\n",
    "df_method3['cardio_stress_test'].fillna(value=df_method3['cardio_stress_test'].median(),inplace=True)"
   ]
  },
  {
   "cell_type": "code",
   "execution_count": 928,
   "id": "d460cf92",
   "metadata": {},
   "outputs": [],
   "source": [
    "#Splitting dataset into X(input) and Y(output) \n",
    "X3 = df_method3.drop(columns=['zeta_disease'])\n",
    "Y3 = df_method3['zeta_disease']"
   ]
  },
  {
   "cell_type": "code",
   "execution_count": 929,
   "id": "742b4a19",
   "metadata": {},
   "outputs": [],
   "source": [
    "#Splitting into X_train, X_test, Y_train and Y_test\n",
    "X_train3, X_test3, y_train3, y_test3 = train_test_split(X3, Y3, test_size=0.3,random_state=None)"
   ]
  },
  {
   "cell_type": "markdown",
   "id": "7167bf55",
   "metadata": {},
   "source": [
    "#### Logistic Regression"
   ]
  },
  {
   "cell_type": "code",
   "execution_count": 1006,
   "id": "8aafa0e6",
   "metadata": {},
   "outputs": [
    {
     "name": "stdout",
     "output_type": "stream",
     "text": [
      "Train Accuracy =  0.7678571428571429\n",
      "Test Accuracy =  0.7625\n",
      "F1 score = 0.6415094339622641\n",
      "Precision =  0.6710526315789473\n",
      "Recall =  0.6144578313253012\n"
     ]
    },
    {
     "data": {
      "text/plain": [
       "Text(33.0, 0.5, 'Actual')"
      ]
     },
     "execution_count": 1006,
     "metadata": {},
     "output_type": "execute_result"
    },
    {
     "data": {
      "image/png": "[encoded data removed]",
      "text/plain": [
       "<Figure size 432x288 with 2 Axes>"
      ]
     },
     "metadata": {
      "needs_background": "light"
     },
     "output_type": "display_data"
    }
   ],
   "source": [
    "clf8 = LogisticRegression(random_state= None, max_iter = 300).fit(X_train3, y_train3)\n",
    "clf8.predict(X_train3)\n",
    "print(\"Train Accuracy = \",clf8.score(X_train3, y_train3)) #To check for overfitting or underfitting\n",
    "\n",
    "predict=clf8.predict(X_test3)\n",
    "print(\"Test Accuracy = \",clf8.score(X_test3, y_test3))\n",
    "print(\"F1 score =\",f1_score(y_test3, predict))\n",
    "print(\"Precision = \",precision_score(y_test3,predict))\n",
    "print(\"Recall = \",recall_score(y_test3,predict))\n",
    "ax=plt.subplot()\n",
    "sns.heatmap(confusion_matrix(y_test3,predict),annot=True,ax=ax,fmt='g')\n",
    "ax.set_title('Confusion Matrix')\n",
    "ax.set_xlabel('Predicted')\n",
    "ax.set_ylabel('Actual')"
   ]
  },
  {
   "cell_type": "markdown",
   "id": "8e39cb79",
   "metadata": {},
   "source": [
    "#### Random Forest"
   ]
  },
  {
   "cell_type": "markdown",
   "id": "eddedc15",
   "metadata": {},
   "source": [
    "* It had the second best accuracy and f1 scores, but it has a higher Recall score. In our example it is important to take recall into consideration as here actual predicted zeta disease person is better."
   ]
  },
  {
   "cell_type": "code",
   "execution_count": 1004,
   "id": "657394e4",
   "metadata": {},
   "outputs": [
    {
     "name": "stdout",
     "output_type": "stream",
     "text": [
      "Train Accuracy =  0.8357142857142857\n",
      "Test Accuracy =  0.7458333333333333\n",
      "F1 score = 0.6013071895424836\n",
      "Precision =  0.6571428571428571\n",
      "Recall =  0.5542168674698795\n"
     ]
    },
    {
     "data": {
      "text/plain": [
       "Text(33.0, 0.5, 'Actual')"
      ]
     },
     "execution_count": 1004,
     "metadata": {},
     "output_type": "execute_result"
    },
    {
     "data": {
      "image/png": "[encoded data removed]",
      "text/plain": [
       "<Figure size 432x288 with 2 Axes>"
      ]
     },
     "metadata": {
      "needs_background": "light"
     },
     "output_type": "display_data"
    }
   ],
   "source": [
    "clf9 = RandomForestClassifier(max_depth=4, random_state=0)\n",
    "clf9.fit(X_train3, y_train3)\n",
    "clf9.predict(X_train3)\n",
    "print(\"Train Accuracy = \",clf9.score(X_train3, y_train3)) #To check for overfitting or underfitting\n",
    "\n",
    "predict=clf9.predict(X_test3)\n",
    "print(\"Test Accuracy = \",clf9.score(X_test3, y_test3))\n",
    "print(\"F1 score =\",f1_score(y_test3, predict))\n",
    "print(\"Precision = \",precision_score(y_test3,predict))\n",
    "print(\"Recall = \",recall_score(y_test3,predict))\n",
    "ax=plt.subplot()\n",
    "sns.heatmap(confusion_matrix(y_test3,predict),annot=True,ax=ax,fmt='g')\n",
    "ax.set_title('Confusion Matrix')\n",
    "ax.set_xlabel('Predicted')\n",
    "ax.set_ylabel('Actual')"
   ]
  },
  {
   "cell_type": "markdown",
   "id": "479ae043",
   "metadata": {},
   "source": [
    "### Importing Test set to make predictions on Zeta Disease"
   ]
  },
  {
   "cell_type": "code",
   "execution_count": 1016,
   "id": "aeb1e66b",
   "metadata": {},
   "outputs": [],
   "source": [
    "df_test = pd.read_csv(\"C:\\\\Users\\saumi\\Desktop\\Take_home_test\\Test_set_zeta_disease.csv\")"
   ]
  },
  {
   "cell_type": "code",
   "execution_count": 1017,
   "id": "611078ea",
   "metadata": {},
   "outputs": [],
   "source": [
    "df_test =df_test.drop(columns=['zeta_disease'])"
   ]
  },
  {
   "cell_type": "code",
   "execution_count": 1014,
   "id": "3d153e11",
   "metadata": {},
   "outputs": [],
   "source": [
    "#df_test_req = df_test.drop(columns=['insulin_test'])"
   ]
  },
  {
   "cell_type": "code",
   "execution_count": 1018,
   "id": "8e9cb415",
   "metadata": {},
   "outputs": [
    {
     "data": {
      "text/html": [
       "<div>\n",
       "<style scoped>\n",
       "    .dataframe tbody tr th:only-of-type {\n",
       "        vertical-align: middle;\n",
       "    }\n",
       "\n",
       "    .dataframe tbody tr th {\n",
       "        vertical-align: top;\n",
       "    }\n",
       "\n",
       "    .dataframe thead th {\n",
       "        text-align: right;\n",
       "    }\n",
       "</style>\n",
       "<table border=\"1\" class=\"dataframe\">\n",
       "  <thead>\n",
       "    <tr style=\"text-align: right;\">\n",
       "      <th></th>\n",
       "      <th>age</th>\n",
       "      <th>weight</th>\n",
       "      <th>bmi</th>\n",
       "      <th>blood_pressure</th>\n",
       "      <th>insulin_test</th>\n",
       "      <th>liver_stress_test</th>\n",
       "      <th>cardio_stress_test</th>\n",
       "      <th>years_smoking</th>\n",
       "    </tr>\n",
       "  </thead>\n",
       "  <tbody>\n",
       "    <tr>\n",
       "      <th>0</th>\n",
       "      <td>24</td>\n",
       "      <td>151</td>\n",
       "      <td>39.5</td>\n",
       "      <td>69</td>\n",
       "      <td>72</td>\n",
       "      <td>1.3968</td>\n",
       "      <td>56</td>\n",
       "      <td>4</td>\n",
       "    </tr>\n",
       "    <tr>\n",
       "      <th>1</th>\n",
       "      <td>27</td>\n",
       "      <td>179</td>\n",
       "      <td>35.5</td>\n",
       "      <td>89</td>\n",
       "      <td>156</td>\n",
       "      <td>1.6608</td>\n",
       "      <td>43</td>\n",
       "      <td>6</td>\n",
       "    </tr>\n",
       "    <tr>\n",
       "      <th>2</th>\n",
       "      <td>34</td>\n",
       "      <td>147</td>\n",
       "      <td>26.9</td>\n",
       "      <td>76</td>\n",
       "      <td>74</td>\n",
       "      <td>1.6958</td>\n",
       "      <td>53</td>\n",
       "      <td>2</td>\n",
       "    </tr>\n",
       "    <tr>\n",
       "      <th>3</th>\n",
       "      <td>35</td>\n",
       "      <td>206</td>\n",
       "      <td>32.4</td>\n",
       "      <td>73</td>\n",
       "      <td>127</td>\n",
       "      <td>1.4608</td>\n",
       "      <td>61</td>\n",
       "      <td>6</td>\n",
       "    </tr>\n",
       "    <tr>\n",
       "      <th>4</th>\n",
       "      <td>60</td>\n",
       "      <td>193</td>\n",
       "      <td>29.8</td>\n",
       "      <td>62</td>\n",
       "      <td>192</td>\n",
       "      <td>1.7798</td>\n",
       "      <td>65</td>\n",
       "      <td>9</td>\n",
       "    </tr>\n",
       "    <tr>\n",
       "      <th>5</th>\n",
       "      <td>45</td>\n",
       "      <td>120</td>\n",
       "      <td>36.5</td>\n",
       "      <td>108</td>\n",
       "      <td>50</td>\n",
       "      <td>1.2978</td>\n",
       "      <td>54</td>\n",
       "      <td>12</td>\n",
       "    </tr>\n",
       "    <tr>\n",
       "      <th>6</th>\n",
       "      <td>20</td>\n",
       "      <td>139</td>\n",
       "      <td>38.2</td>\n",
       "      <td>61</td>\n",
       "      <td>77</td>\n",
       "      <td>1.5818</td>\n",
       "      <td>68</td>\n",
       "      <td>3</td>\n",
       "    </tr>\n",
       "    <tr>\n",
       "      <th>7</th>\n",
       "      <td>23</td>\n",
       "      <td>137</td>\n",
       "      <td>31.2</td>\n",
       "      <td>70</td>\n",
       "      <td>73</td>\n",
       "      <td>1.4168</td>\n",
       "      <td>59</td>\n",
       "      <td>7</td>\n",
       "    </tr>\n",
       "    <tr>\n",
       "      <th>8</th>\n",
       "      <td>36</td>\n",
       "      <td>195</td>\n",
       "      <td>30.5</td>\n",
       "      <td>59</td>\n",
       "      <td>141</td>\n",
       "      <td>1.4498</td>\n",
       "      <td>59</td>\n",
       "      <td>6</td>\n",
       "    </tr>\n",
       "    <tr>\n",
       "      <th>9</th>\n",
       "      <td>19</td>\n",
       "      <td>193</td>\n",
       "      <td>25.8</td>\n",
       "      <td>84</td>\n",
       "      <td>66</td>\n",
       "      <td>1.7938</td>\n",
       "      <td>50</td>\n",
       "      <td>3</td>\n",
       "    </tr>\n",
       "    <tr>\n",
       "      <th>10</th>\n",
       "      <td>47</td>\n",
       "      <td>216</td>\n",
       "      <td>34.7</td>\n",
       "      <td>70</td>\n",
       "      <td>170</td>\n",
       "      <td>1.7238</td>\n",
       "      <td>58</td>\n",
       "      <td>7</td>\n",
       "    </tr>\n",
       "    <tr>\n",
       "      <th>11</th>\n",
       "      <td>40</td>\n",
       "      <td>200</td>\n",
       "      <td>30.4</td>\n",
       "      <td>69</td>\n",
       "      <td>128</td>\n",
       "      <td>1.3118</td>\n",
       "      <td>60</td>\n",
       "      <td>3</td>\n",
       "    </tr>\n",
       "    <tr>\n",
       "      <th>12</th>\n",
       "      <td>21</td>\n",
       "      <td>154</td>\n",
       "      <td>46.5</td>\n",
       "      <td>88</td>\n",
       "      <td>121</td>\n",
       "      <td>1.2498</td>\n",
       "      <td>68</td>\n",
       "      <td>4</td>\n",
       "    </tr>\n",
       "    <tr>\n",
       "      <th>13</th>\n",
       "      <td>52</td>\n",
       "      <td>196</td>\n",
       "      <td>31.3</td>\n",
       "      <td>90</td>\n",
       "      <td>167</td>\n",
       "      <td>1.9238</td>\n",
       "      <td>66</td>\n",
       "      <td>10</td>\n",
       "    </tr>\n",
       "    <tr>\n",
       "      <th>14</th>\n",
       "      <td>30</td>\n",
       "      <td>181</td>\n",
       "      <td>37.4</td>\n",
       "      <td>93</td>\n",
       "      <td>157</td>\n",
       "      <td>2.0508</td>\n",
       "      <td>80</td>\n",
       "      <td>5</td>\n",
       "    </tr>\n",
       "    <tr>\n",
       "      <th>15</th>\n",
       "      <td>46</td>\n",
       "      <td>213</td>\n",
       "      <td>26.5</td>\n",
       "      <td>70</td>\n",
       "      <td>133</td>\n",
       "      <td>1.4788</td>\n",
       "      <td>55</td>\n",
       "      <td>12</td>\n",
       "    </tr>\n",
       "    <tr>\n",
       "      <th>16</th>\n",
       "      <td>29</td>\n",
       "      <td>173</td>\n",
       "      <td>50.7</td>\n",
       "      <td>91</td>\n",
       "      <td>221</td>\n",
       "      <td>1.4878</td>\n",
       "      <td>83</td>\n",
       "      <td>3</td>\n",
       "    </tr>\n",
       "    <tr>\n",
       "      <th>17</th>\n",
       "      <td>36</td>\n",
       "      <td>202</td>\n",
       "      <td>42.8</td>\n",
       "      <td>72</td>\n",
       "      <td>273</td>\n",
       "      <td>1.8748</td>\n",
       "      <td>72</td>\n",
       "      <td>13</td>\n",
       "    </tr>\n",
       "    <tr>\n",
       "      <th>18</th>\n",
       "      <td>27</td>\n",
       "      <td>197</td>\n",
       "      <td>29.1</td>\n",
       "      <td>72</td>\n",
       "      <td>362</td>\n",
       "      <td>1.4298</td>\n",
       "      <td>69</td>\n",
       "      <td>4</td>\n",
       "    </tr>\n",
       "    <tr>\n",
       "      <th>19</th>\n",
       "      <td>44</td>\n",
       "      <td>184</td>\n",
       "      <td>33.9</td>\n",
       "      <td>104</td>\n",
       "      <td>141</td>\n",
       "      <td>1.3268</td>\n",
       "      <td>60</td>\n",
       "      <td>2</td>\n",
       "    </tr>\n",
       "  </tbody>\n",
       "</table>\n",
       "</div>"
      ],
      "text/plain": [
       "    age  weight   bmi  blood_pressure  insulin_test  liver_stress_test  \\\n",
       "0    24     151  39.5              69            72             1.3968   \n",
       "1    27     179  35.5              89           156             1.6608   \n",
       "2    34     147  26.9              76            74             1.6958   \n",
       "3    35     206  32.4              73           127             1.4608   \n",
       "4    60     193  29.8              62           192             1.7798   \n",
       "5    45     120  36.5             108            50             1.2978   \n",
       "6    20     139  38.2              61            77             1.5818   \n",
       "7    23     137  31.2              70            73             1.4168   \n",
       "8    36     195  30.5              59           141             1.4498   \n",
       "9    19     193  25.8              84            66             1.7938   \n",
       "10   47     216  34.7              70           170             1.7238   \n",
       "11   40     200  30.4              69           128             1.3118   \n",
       "12   21     154  46.5              88           121             1.2498   \n",
       "13   52     196  31.3              90           167             1.9238   \n",
       "14   30     181  37.4              93           157             2.0508   \n",
       "15   46     213  26.5              70           133             1.4788   \n",
       "16   29     173  50.7              91           221             1.4878   \n",
       "17   36     202  42.8              72           273             1.8748   \n",
       "18   27     197  29.1              72           362             1.4298   \n",
       "19   44     184  33.9             104           141             1.3268   \n",
       "\n",
       "    cardio_stress_test  years_smoking  \n",
       "0                   56              4  \n",
       "1                   43              6  \n",
       "2                   53              2  \n",
       "3                   61              6  \n",
       "4                   65              9  \n",
       "5                   54             12  \n",
       "6                   68              3  \n",
       "7                   59              7  \n",
       "8                   59              6  \n",
       "9                   50              3  \n",
       "10                  58              7  \n",
       "11                  60              3  \n",
       "12                  68              4  \n",
       "13                  66             10  \n",
       "14                  80              5  \n",
       "15                  55             12  \n",
       "16                  83              3  \n",
       "17                  72             13  \n",
       "18                  69              4  \n",
       "19                  60              2  "
      ]
     },
     "execution_count": 1018,
     "metadata": {},
     "output_type": "execute_result"
    }
   ],
   "source": [
    "df_test"
   ]
  },
  {
   "cell_type": "markdown",
   "id": "883fb56c",
   "metadata": {},
   "source": [
    "### Logistic Regression of the Method 3 has the highest recall and F1 Score, so we would make the predictions for the test set using the same. As recall is important for our example, i.e. correctly predicting actual people having the disease and having less False negatives."
   ]
  },
  {
   "cell_type": "code",
   "execution_count": 1019,
   "id": "c44c5199",
   "metadata": {},
   "outputs": [],
   "source": [
    "df_test['zeta_disease']=clf8.predict(df_test)"
   ]
  },
  {
   "cell_type": "code",
   "execution_count": 1020,
   "id": "a5a6af59",
   "metadata": {},
   "outputs": [
    {
     "data": {
      "text/html": [
       "<div>\n",
       "<style scoped>\n",
       "    .dataframe tbody tr th:only-of-type {\n",
       "        vertical-align: middle;\n",
       "    }\n",
       "\n",
       "    .dataframe tbody tr th {\n",
       "        vertical-align: top;\n",
       "    }\n",
       "\n",
       "    .dataframe thead th {\n",
       "        text-align: right;\n",
       "    }\n",
       "</style>\n",
       "<table border=\"1\" class=\"dataframe\">\n",
       "  <thead>\n",
       "    <tr style=\"text-align: right;\">\n",
       "      <th></th>\n",
       "      <th>age</th>\n",
       "      <th>weight</th>\n",
       "      <th>bmi</th>\n",
       "      <th>blood_pressure</th>\n",
       "      <th>insulin_test</th>\n",
       "      <th>liver_stress_test</th>\n",
       "      <th>cardio_stress_test</th>\n",
       "      <th>years_smoking</th>\n",
       "      <th>zeta_disease</th>\n",
       "    </tr>\n",
       "  </thead>\n",
       "  <tbody>\n",
       "    <tr>\n",
       "      <th>0</th>\n",
       "      <td>24</td>\n",
       "      <td>151</td>\n",
       "      <td>39.5</td>\n",
       "      <td>69</td>\n",
       "      <td>72</td>\n",
       "      <td>1.3968</td>\n",
       "      <td>56</td>\n",
       "      <td>4</td>\n",
       "      <td>0</td>\n",
       "    </tr>\n",
       "    <tr>\n",
       "      <th>1</th>\n",
       "      <td>27</td>\n",
       "      <td>179</td>\n",
       "      <td>35.5</td>\n",
       "      <td>89</td>\n",
       "      <td>156</td>\n",
       "      <td>1.6608</td>\n",
       "      <td>43</td>\n",
       "      <td>6</td>\n",
       "      <td>1</td>\n",
       "    </tr>\n",
       "    <tr>\n",
       "      <th>2</th>\n",
       "      <td>34</td>\n",
       "      <td>147</td>\n",
       "      <td>26.9</td>\n",
       "      <td>76</td>\n",
       "      <td>74</td>\n",
       "      <td>1.6958</td>\n",
       "      <td>53</td>\n",
       "      <td>2</td>\n",
       "      <td>0</td>\n",
       "    </tr>\n",
       "    <tr>\n",
       "      <th>3</th>\n",
       "      <td>35</td>\n",
       "      <td>206</td>\n",
       "      <td>32.4</td>\n",
       "      <td>73</td>\n",
       "      <td>127</td>\n",
       "      <td>1.4608</td>\n",
       "      <td>61</td>\n",
       "      <td>6</td>\n",
       "      <td>1</td>\n",
       "    </tr>\n",
       "    <tr>\n",
       "      <th>4</th>\n",
       "      <td>60</td>\n",
       "      <td>193</td>\n",
       "      <td>29.8</td>\n",
       "      <td>62</td>\n",
       "      <td>192</td>\n",
       "      <td>1.7798</td>\n",
       "      <td>65</td>\n",
       "      <td>9</td>\n",
       "      <td>1</td>\n",
       "    </tr>\n",
       "    <tr>\n",
       "      <th>5</th>\n",
       "      <td>45</td>\n",
       "      <td>120</td>\n",
       "      <td>36.5</td>\n",
       "      <td>108</td>\n",
       "      <td>50</td>\n",
       "      <td>1.2978</td>\n",
       "      <td>54</td>\n",
       "      <td>12</td>\n",
       "      <td>0</td>\n",
       "    </tr>\n",
       "    <tr>\n",
       "      <th>6</th>\n",
       "      <td>20</td>\n",
       "      <td>139</td>\n",
       "      <td>38.2</td>\n",
       "      <td>61</td>\n",
       "      <td>77</td>\n",
       "      <td>1.5818</td>\n",
       "      <td>68</td>\n",
       "      <td>3</td>\n",
       "      <td>0</td>\n",
       "    </tr>\n",
       "    <tr>\n",
       "      <th>7</th>\n",
       "      <td>23</td>\n",
       "      <td>137</td>\n",
       "      <td>31.2</td>\n",
       "      <td>70</td>\n",
       "      <td>73</td>\n",
       "      <td>1.4168</td>\n",
       "      <td>59</td>\n",
       "      <td>7</td>\n",
       "      <td>0</td>\n",
       "    </tr>\n",
       "    <tr>\n",
       "      <th>8</th>\n",
       "      <td>36</td>\n",
       "      <td>195</td>\n",
       "      <td>30.5</td>\n",
       "      <td>59</td>\n",
       "      <td>141</td>\n",
       "      <td>1.4498</td>\n",
       "      <td>59</td>\n",
       "      <td>6</td>\n",
       "      <td>1</td>\n",
       "    </tr>\n",
       "    <tr>\n",
       "      <th>9</th>\n",
       "      <td>19</td>\n",
       "      <td>193</td>\n",
       "      <td>25.8</td>\n",
       "      <td>84</td>\n",
       "      <td>66</td>\n",
       "      <td>1.7938</td>\n",
       "      <td>50</td>\n",
       "      <td>3</td>\n",
       "      <td>1</td>\n",
       "    </tr>\n",
       "    <tr>\n",
       "      <th>10</th>\n",
       "      <td>47</td>\n",
       "      <td>216</td>\n",
       "      <td>34.7</td>\n",
       "      <td>70</td>\n",
       "      <td>170</td>\n",
       "      <td>1.7238</td>\n",
       "      <td>58</td>\n",
       "      <td>7</td>\n",
       "      <td>1</td>\n",
       "    </tr>\n",
       "    <tr>\n",
       "      <th>11</th>\n",
       "      <td>40</td>\n",
       "      <td>200</td>\n",
       "      <td>30.4</td>\n",
       "      <td>69</td>\n",
       "      <td>128</td>\n",
       "      <td>1.3118</td>\n",
       "      <td>60</td>\n",
       "      <td>3</td>\n",
       "      <td>1</td>\n",
       "    </tr>\n",
       "    <tr>\n",
       "      <th>12</th>\n",
       "      <td>21</td>\n",
       "      <td>154</td>\n",
       "      <td>46.5</td>\n",
       "      <td>88</td>\n",
       "      <td>121</td>\n",
       "      <td>1.2498</td>\n",
       "      <td>68</td>\n",
       "      <td>4</td>\n",
       "      <td>1</td>\n",
       "    </tr>\n",
       "    <tr>\n",
       "      <th>13</th>\n",
       "      <td>52</td>\n",
       "      <td>196</td>\n",
       "      <td>31.3</td>\n",
       "      <td>90</td>\n",
       "      <td>167</td>\n",
       "      <td>1.9238</td>\n",
       "      <td>66</td>\n",
       "      <td>10</td>\n",
       "      <td>1</td>\n",
       "    </tr>\n",
       "    <tr>\n",
       "      <th>14</th>\n",
       "      <td>30</td>\n",
       "      <td>181</td>\n",
       "      <td>37.4</td>\n",
       "      <td>93</td>\n",
       "      <td>157</td>\n",
       "      <td>2.0508</td>\n",
       "      <td>80</td>\n",
       "      <td>5</td>\n",
       "      <td>1</td>\n",
       "    </tr>\n",
       "    <tr>\n",
       "      <th>15</th>\n",
       "      <td>46</td>\n",
       "      <td>213</td>\n",
       "      <td>26.5</td>\n",
       "      <td>70</td>\n",
       "      <td>133</td>\n",
       "      <td>1.4788</td>\n",
       "      <td>55</td>\n",
       "      <td>12</td>\n",
       "      <td>1</td>\n",
       "    </tr>\n",
       "    <tr>\n",
       "      <th>16</th>\n",
       "      <td>29</td>\n",
       "      <td>173</td>\n",
       "      <td>50.7</td>\n",
       "      <td>91</td>\n",
       "      <td>221</td>\n",
       "      <td>1.4878</td>\n",
       "      <td>83</td>\n",
       "      <td>3</td>\n",
       "      <td>1</td>\n",
       "    </tr>\n",
       "    <tr>\n",
       "      <th>17</th>\n",
       "      <td>36</td>\n",
       "      <td>202</td>\n",
       "      <td>42.8</td>\n",
       "      <td>72</td>\n",
       "      <td>273</td>\n",
       "      <td>1.8748</td>\n",
       "      <td>72</td>\n",
       "      <td>13</td>\n",
       "      <td>1</td>\n",
       "    </tr>\n",
       "    <tr>\n",
       "      <th>18</th>\n",
       "      <td>27</td>\n",
       "      <td>197</td>\n",
       "      <td>29.1</td>\n",
       "      <td>72</td>\n",
       "      <td>362</td>\n",
       "      <td>1.4298</td>\n",
       "      <td>69</td>\n",
       "      <td>4</td>\n",
       "      <td>1</td>\n",
       "    </tr>\n",
       "    <tr>\n",
       "      <th>19</th>\n",
       "      <td>44</td>\n",
       "      <td>184</td>\n",
       "      <td>33.9</td>\n",
       "      <td>104</td>\n",
       "      <td>141</td>\n",
       "      <td>1.3268</td>\n",
       "      <td>60</td>\n",
       "      <td>2</td>\n",
       "      <td>1</td>\n",
       "    </tr>\n",
       "  </tbody>\n",
       "</table>\n",
       "</div>"
      ],
      "text/plain": [
       "    age  weight   bmi  blood_pressure  insulin_test  liver_stress_test  \\\n",
       "0    24     151  39.5              69            72             1.3968   \n",
       "1    27     179  35.5              89           156             1.6608   \n",
       "2    34     147  26.9              76            74             1.6958   \n",
       "3    35     206  32.4              73           127             1.4608   \n",
       "4    60     193  29.8              62           192             1.7798   \n",
       "5    45     120  36.5             108            50             1.2978   \n",
       "6    20     139  38.2              61            77             1.5818   \n",
       "7    23     137  31.2              70            73             1.4168   \n",
       "8    36     195  30.5              59           141             1.4498   \n",
       "9    19     193  25.8              84            66             1.7938   \n",
       "10   47     216  34.7              70           170             1.7238   \n",
       "11   40     200  30.4              69           128             1.3118   \n",
       "12   21     154  46.5              88           121             1.2498   \n",
       "13   52     196  31.3              90           167             1.9238   \n",
       "14   30     181  37.4              93           157             2.0508   \n",
       "15   46     213  26.5              70           133             1.4788   \n",
       "16   29     173  50.7              91           221             1.4878   \n",
       "17   36     202  42.8              72           273             1.8748   \n",
       "18   27     197  29.1              72           362             1.4298   \n",
       "19   44     184  33.9             104           141             1.3268   \n",
       "\n",
       "    cardio_stress_test  years_smoking  zeta_disease  \n",
       "0                   56              4             0  \n",
       "1                   43              6             1  \n",
       "2                   53              2             0  \n",
       "3                   61              6             1  \n",
       "4                   65              9             1  \n",
       "5                   54             12             0  \n",
       "6                   68              3             0  \n",
       "7                   59              7             0  \n",
       "8                   59              6             1  \n",
       "9                   50              3             1  \n",
       "10                  58              7             1  \n",
       "11                  60              3             1  \n",
       "12                  68              4             1  \n",
       "13                  66             10             1  \n",
       "14                  80              5             1  \n",
       "15                  55             12             1  \n",
       "16                  83              3             1  \n",
       "17                  72             13             1  \n",
       "18                  69              4             1  \n",
       "19                  60              2             1  "
      ]
     },
     "execution_count": 1020,
     "metadata": {},
     "output_type": "execute_result"
    }
   ],
   "source": [
    "df_test"
   ]
  },
  {
   "cell_type": "code",
   "execution_count": 1021,
   "id": "ed429734",
   "metadata": {},
   "outputs": [],
   "source": [
    "df_predicted= df_test.copy()"
   ]
  },
  {
   "cell_type": "markdown",
   "id": "5b354f14",
   "metadata": {},
   "source": [
    "### Saving the solution as CSV files"
   ]
  },
  {
   "cell_type": "code",
   "execution_count": 1022,
   "id": "ba0b9daa",
   "metadata": {},
   "outputs": [],
   "source": [
    "df_predicted.to_csv(\"Solution_1.csv\", index = False)"
   ]
  },
  {
   "cell_type": "code",
   "execution_count": 1023,
   "id": "05662bfa",
   "metadata": {},
   "outputs": [],
   "source": [
    "df_final = df_predicted['zeta_disease']\n",
    "df_final.to_csv(\"predicted_zeta\",index = False)"
   ]
  },
  {
   "cell_type": "code",
   "execution_count": null,
   "id": "a7981dc8",
   "metadata": {},
   "outputs": [],
   "source": []
  }
 ],
 "metadata": {
  "kernelspec": {
   "display_name": "Python 3",
   "language": "python",
   "name": "python3"
  },
  "language_info": {
   "codemirror_mode": {
    "name": "ipython",
    "version": 3
   },
   "file_extension": ".py",
   "mimetype": "text/x-python",
   "name": "python",
   "nbconvert_exporter": "python",
   "pygments_lexer": "ipython3",
   "version": "3.8.5"
  }
 },
 "nbformat": 4,
 "nbformat_minor": 5
}
